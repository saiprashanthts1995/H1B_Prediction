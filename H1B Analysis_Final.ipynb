{
 "cells": [
  {
   "cell_type": "code",
   "execution_count": 1,
   "metadata": {},
   "outputs": [],
   "source": [
    "# Importing Packages\n",
    "import pandas as pd\n",
    "import matplotlib.pyplot as plt\n",
    "import seaborn as sns\n",
    "import numpy as np"
   ]
  },
  {
   "cell_type": "code",
   "execution_count": 2,
   "metadata": {},
   "outputs": [
    {
     "name": "stdout",
     "output_type": "stream",
     "text": [
      "Different Columns present in the dataset are as follows ['CASE_NUMBER', 'CASE_STATUS', 'CASE_SUBMITTED', 'DECISION_DATE', 'ORIGINAL_CERT_DATE', 'VISA_CLASS', 'JOB_TITLE', 'SOC_CODE', 'SOC_TITLE', 'FULL_TIME_POSITION', 'PERIOD_OF_EMPLOYMENT_START_DATE', 'PERIOD_OF_EMPLOYMENT_END_DATE', 'TOTAL_WORKER_POSITIONS', 'NEW_EMPLOYMENT', 'CONTINUED_EMPLOYMENT', 'CHANGE_PREVIOUS_EMPLOYMENT', 'NEW_CONCURRENT_EMPLOYMENT', 'CHANGE_EMPLOYER', 'AMENDED_PETITION', 'EMPLOYER_NAME', 'EMPLOYER_BUSINESS_DBA', 'EMPLOYER_ADDRESS1', 'EMPLOYER_ADDRESS2', 'EMPLOYER_CITY', 'EMPLOYER_STATE', 'EMPLOYER_POSTAL_CODE', 'EMPLOYER_COUNTRY', 'EMPLOYER_PROVINCE', 'EMPLOYER_PHONE', 'EMPLOYER_PHONE_EXT', 'NAICS_CODE', 'AGENT_REPRESENTING_EMPLOYER', 'AGENT_ATTORNEY_LAW_FIRM_BUSINESS_NAME', 'AGENT_ATTORNEY_ADDRESS1', 'AGENT_ATTORNEY_ADDRESS2', 'AGENT_ATTORNEY_CITY', 'AGENT_ATTORNEY_STATE', 'AGENT_ATTORNEY_POSTAL_CODE', 'AGENT_ATTORNEY_COUNTRY', 'AGENT_ATTORNEY_PROVINCE', 'AGENT_ATTORNEY_PHONE', 'AGENT_ATTORNEY_PHONE_EXT', 'STATE_OF_HIGHEST_COURT', 'NAME_OF_HIGHEST_STATE_COURT', 'WORKSITE_WORKERS_1', 'SECONDARY_ENTITY_1', 'SECONDARY_ENTITY_BUSINESS_NAME_1', 'WORKSITE_ADDRESS1_1', 'WORKSITE_ADDRESS2_1', 'WORKSITE_CITY_1', 'WORKSITE_COUNTY_1', 'WORKSITE_STATE_1', 'WORKSITE_POSTAL_CODE_1', 'WAGE_RATE_OF_PAY_FROM_1', 'WAGE_RATE_OF_PAY_TO_1', 'WAGE_UNIT_OF_PAY_1', 'PREVAILING_WAGE_1', 'PW_UNIT_OF_PAY_1', 'PW_TRACKING_NUMBER_1', 'PW_WAGE_LEVEL_1', 'PW_OES_YEAR_1', 'PW_OTHER_SOURCE_1', 'PW_NON-OES_YEAR_1', 'PW_SURVEY_PUBLISHER_1', 'PW_SURVEY_NAME_1', 'WORKSITE_WORKERS_2', 'SECONDARY_ENTITY_2', 'SECONDARY_ENTITY_BUSINESS_NAME_2', 'WORKSITE_ADDRESS1_2', 'WORKSITE_ADDRESS2_2', 'WORKSITE_CITY_2', 'WORKSITE_COUNTY_2', 'WORKSITE_STATE_2', 'WORKSITE_POSTAL_CODE_2', 'WAGE_RATE_OF_PAY_FROM_2', 'WAGE_RATE_OF_PAY_TO_2', 'WAGE_UNIT_OF_PAY_2', 'PREVAILING_WAGE_2', 'PW_UNIT_OF_PAY_2', 'PW_TRACKING_NUMBER_2', 'PW_WAGE_LEVEL_2', 'PW_OES_YEAR_2', 'PW_OTHER_SOURCE_2', 'PW_NON-OES_YEAR_2', 'PW_SURVEY_PUBLISHER_2', 'PW_SURVEY_NAME_2', 'WORKSITE_WORKERS_3', 'SECONDARY_ENTITY_3', 'SECONDARY_ENTITY_BUSINESS_NAME_3', 'WORKSITE_ADDRESS1_3', 'WORKSITE_ADDRESS2_3', 'WORKSITE_CITY_3', 'WORKSITE_COUNTY_3', 'WORKSITE_STATE_3', 'WORKSITE_POSTAL_CODE_3', 'WAGE_RATE_OF_PAY_FROM_3', 'WAGE_RATE_OF_PAY_TO_3', 'WAGE_UNIT_OF_PAY_3', 'PREVAILING_WAGE_3', 'PW_UNIT_OF_PAY_3', 'PW_TRACKING_NUMBER_3', 'PW_WAGE_LEVEL_3', 'PW_OES_YEAR_3', 'PW_OTHER_SOURCE_3', 'PW_NON-OES_YEAR_3', 'PW_SURVEY_PUBLISHER_3', 'PW_SURVEY_NAME_3', 'WORKSITE_WORKERS_4', 'SECONDARY_ENTITY_4', 'SECONDARY_ENTITY_BUSINESS_NAME_4', 'WORKSITE_ADDRESS1_4', 'WORKSITE_ADDRESS2_4', 'WORKSITE_CITY_4', 'WORKSITE_COUNTY_4', 'WORKSITE_STATE_4', 'WORKSITE_POSTAL_CODE_4', 'WAGE_RATE_OF_PAY_FROM_4', 'WAGE_RATE_OF_PAY_TO_4', 'WAGE_UNIT_OF_PAY_4', 'PREVAILING_WAGE_4', 'PW_UNIT_OF_PAY_4', 'PW_TRACKING_NUMBER_4', 'PW_WAGE_LEVEL_4', 'PW_OES_YEAR_4', 'PW_OTHER_SOURCE_4', 'PW_NON-OES_YEAR_4', 'PW_SURVEY_PUBLISHER_4', 'PW_SURVEY_NAME_4', 'WORKSITE_WORKERS_5', 'SECONDARY_ENTITY_5', 'SECONDARY_ENTITY_BUSINESS_NAME_5', 'WORKSITE_ADDRESS1_5', 'WORKSITE_ADDRESS2_5', 'WORKSITE_CITY_5', 'WORKSITE_COUNTY_5', 'WORKSITE_STATE_5', 'WORKSITE_POSTAL_CODE_5', 'WAGE_RATE_OF_PAY_FROM_5', 'WAGE_RATE_OF_PAY_TO_5', 'WAGE_UNIT_OF_PAY_5', 'PREVAILING_WAGE_5', 'PW_UNIT_OF_PAY_5', 'PW_TRACKING_NUMBER_5', 'PW_WAGE_LEVEL_5', 'PW_OES_YEAR_5', 'PW_OTHER_SOURCE_5', 'PW_NON-OES_YEAR_5', 'PW_SURVEY_PUBLISHER_5', 'PW_SURVEY_NAME_5', 'WORKSITE_WORKERS_6', 'SECONDARY_ENTITY_6', 'SECONDARY_ENTITY_BUSINESS_NAME_6', 'WORKSITE_ADDRESS1_6', 'WORKSITE_ADDRESS2_6', 'WORKSITE_CITY_6', 'WORKSITE_COUNTY_6', 'WORKSITE_STATE_6', 'WORKSITE_POSTAL_CODE_6', 'WAGE_RATE_OF_PAY_FROM_6', 'WAGE_RATE_OF_PAY_TO_6', 'WAGE_UNIT_OF_PAY_6', 'PREVAILING_WAGE_6', 'PW_UNIT_OF_PAY_6', 'PW_TRACKING_NUMBER_6', 'PW_WAGE_LEVEL_6', 'PW_OES_YEAR_6', 'PW_OTHER_SOURCE_6', 'PW_NON-OES_YEAR_6', 'PW_SURVEY_PUBLISHER_6', 'PW_SURVEY_NAME_6', 'WORKSITE_WORKERS_7', 'SECONDARY_ENTITY_7', 'SECONDARY_ENTITY_BUSINESS_NAME_7', 'WORKSITE_ADDRESS1_7', 'WORKSITE_ADDRESS2_7', 'WORKSITE_CITY_7', 'WORKSITE_COUNTY_7', 'WORKSITE_STATE_7', 'WORKSITE_POSTAL_CODE_7', 'WAGE_RATE_OF_PAY_FROM_7', 'WAGE_RATE_OF_PAY_TO_7', 'WAGE_UNIT_OF_PAY_7', 'PREVAILING_WAGE_7', 'PW_UNIT_OF_PAY_7', 'PW_TRACKING_NUMBER_7', 'PW_WAGE_LEVEL_7', 'PW_OES_YEAR_7', 'PW_OTHER_SOURCE_7', 'PW_NON-OES_YEAR_7', 'PW_SURVEY_PUBLISHER_7', 'PW_SURVEY_NAME_7', 'WORKSITE_WORKERS_8', 'SECONDARY_ENTITY_8', 'SECONDARY_ENTITY_BUSINESS_NAME_8', 'WORKSITE_ADDRESS1_8', 'WORKSITE_ADDRESS2_8', 'WORKSITE_CITY_8', 'WORKSITE_COUNTY_8', 'WORKSITE_STATE_8', 'WORKSITE_POSTAL_CODE_8', 'WAGE_RATE_OF_PAY_FROM_8', 'WAGE_RATE_OF_PAY_TO_8', 'WAGE_UNIT_OF_PAY_8', 'PREVAILING_WAGE_8', 'PW_UNIT_OF_PAY_8', 'PW_TRACKING_NUMBER_8', 'PW_WAGE_LEVEL_8', 'PW_OES_YEAR_8', 'PW_OTHER_SOURCE_8', 'PW_NON-OES_YEAR_8', 'PW_SURVEY_PUBLISHER_8', 'PW_SURVEY_NAME_8', 'WORKSITE_WORKERS_9', 'SECONDARY_ENTITY_9', 'SECONDARY_ENTITY_BUSINESS_NAME_9', 'WORKSITE_ADDRESS1_9', 'WORKSITE_ADDRESS2_9', 'WORKSITE_CITY_9', 'WORKSITE_COUNTY_9', 'WORKSITE_STATE_9', 'WORKSITE_POSTAL_CODE_9', 'WAGE_RATE_OF_PAY_FROM_9', 'WAGE_RATE_OF_PAY_TO_9', 'WAGE_UNIT_OF_PAY_9', 'PREVAILING_WAGE_9', 'PW_UNIT_OF_PAY_9', 'PW_TRACKING_NUMBER_9', 'PW_WAGE_LEVEL_9', 'PW_OES_YEAR_9', 'PW_OTHER_SOURCE_9', 'PW_NON-OES_YEAR_9', 'PW_SURVEY_PUBLISHER_9', 'PW_SURVEY_NAME_9', 'WORKSITE_WORKERS_10', 'SECONDARY_ENTITY_10', 'SECONDARY_ENTITY_BUSINESS_NAME_10', 'WORKSITE_ADDRESS1_10', 'WORKSITE_ADDRESS2_10', 'WORKSITE_CITY_10', 'WORKSITE_COUNTY_10', 'WORKSITE_STATE_10', 'WORKSITE_POSTAL_CODE_10', 'WAGE_RATE_OF_PAY_FROM_10', 'WAGE_RATE_OF_PAY_TO_10', 'WAGE_UNIT_OF_PAY_10', 'PREVAILING_WAGE_10', 'PW_UNIT_OF_PAY_10', 'PW_TRACKING_NUMBER_10', 'PW_WAGE_LEVEL_10', 'PW_OES_YEAR_10', 'PW_OTHER_SOURCE_10', 'PW_NON-OES_YEAR_10', 'PW_SURVEY_PUBLISHER_10', 'PW_SURVEY_NAME_10', 'H-1B_DEPENDENT', 'WILLFUL_VIOLATOR', 'SUPPORT_H1B', 'STATUTORY_BASIS', 'MASTERS_EXEMPTION', 'PUBLIC_DISCLOSURE']\n",
      "Total Number of columns present in the dataset is 260\n"
     ]
    }
   ],
   "source": [
    "original_df= pd.read_csv('F:/Masters/Topic1 - H1B/H-1B_Disclosure_Data_FY2019_file.csv', nrows=10)\n",
    "print(\"Different Columns present in the dataset are as follows {}\".format(list(original_df.columns)))\n",
    "print(\"Total Number of columns present in the dataset is {}\".format(len(list(original_df.columns))))"
   ]
  },
  {
   "cell_type": "code",
   "execution_count": 3,
   "metadata": {},
   "outputs": [
    {
     "data": {
      "text/plain": [
       "\"\\n'CASE_STATUS',\\n'EMPLOYER_STATE',\\n'VISA_CLASS',\\n'JOB_TITLE',\\n'SOC_TITLE',\\n'FULL_TIME_POSITION',\\n'EMPLOYER_NAME',\\n'CONTINUED_EMPLOYMENT',\\n'CHANGE_PREVIOUS_EMPLOYMENT',\\n'NEW_CONCURRENT_EMPLOYMENT',\\n'CHANGE_EMPLOYER', \\n'AMENDED_PETITION',\\n'WAGE_RATE_OF_PAY_FROM_1',\\n'WAGE_RATE_OF_PAY_TO_1',\\n'H-1B_DEPENDENT', \\n'WILLFUL_VIOLATOR', \\n'SUPPORT_H1B'\\n\""
      ]
     },
     "execution_count": 3,
     "metadata": {},
     "output_type": "execute_result"
    }
   ],
   "source": [
    "# for this research I'm going to consider these columns \n",
    "'''\n",
    "'CASE_STATUS',\n",
    "'EMPLOYER_STATE',\n",
    "'VISA_CLASS',\n",
    "'JOB_TITLE',\n",
    "'SOC_TITLE',\n",
    "'FULL_TIME_POSITION',\n",
    "'EMPLOYER_NAME',\n",
    "'CONTINUED_EMPLOYMENT',\n",
    "'CHANGE_PREVIOUS_EMPLOYMENT',\n",
    "'NEW_CONCURRENT_EMPLOYMENT',\n",
    "'CHANGE_EMPLOYER', \n",
    "'AMENDED_PETITION',\n",
    "'WAGE_RATE_OF_PAY_FROM_1',\n",
    "'WAGE_RATE_OF_PAY_TO_1',\n",
    "'H-1B_DEPENDENT', \n",
    "'WILLFUL_VIOLATOR', \n",
    "'SUPPORT_H1B'\n",
    "'''"
   ]
  },
  {
   "cell_type": "code",
   "execution_count": 4,
   "metadata": {},
   "outputs": [],
   "source": [
    "list_of_columns = ['CASE_STATUS',\n",
    "'EMPLOYER_STATE',\n",
    "'VISA_CLASS',\n",
    "'JOB_TITLE',\n",
    "'SOC_TITLE',\n",
    "'FULL_TIME_POSITION',\n",
    "'EMPLOYER_NAME',\n",
    "'CONTINUED_EMPLOYMENT',\n",
    "'CHANGE_PREVIOUS_EMPLOYMENT',\n",
    "'NEW_CONCURRENT_EMPLOYMENT',\n",
    "'CHANGE_EMPLOYER', \n",
    "'AMENDED_PETITION',\n",
    "'H-1B_DEPENDENT', \n",
    "'WILLFUL_VIOLATOR', 'SUPPORT_H1B','EMPLOYER_CITY','PREVAILING_WAGE_1']"
   ]
  },
  {
   "cell_type": "code",
   "execution_count": 5,
   "metadata": {},
   "outputs": [],
   "source": [
    "# Reading the Excel file as pandas dataframe\n",
    "#\n",
    "df= pd.read_csv('F:/Masters/Topic1 - H1B/H-1B_Disclosure_Data_FY2019_file.csv', low_memory=False, usecols=list_of_columns)"
   ]
  },
  {
   "cell_type": "code",
   "execution_count": 6,
   "metadata": {},
   "outputs": [
    {
     "name": "stdout",
     "output_type": "stream",
     "text": [
      "<class 'pandas.core.frame.DataFrame'>\n",
      "RangeIndex: 1048547 entries, 0 to 1048546\n",
      "Data columns (total 17 columns):\n",
      " #   Column                      Non-Null Count   Dtype  \n",
      "---  ------                      --------------   -----  \n",
      " 0   CASE_STATUS                 664616 non-null  object \n",
      " 1   VISA_CLASS                  664616 non-null  object \n",
      " 2   JOB_TITLE                   664615 non-null  object \n",
      " 3   SOC_TITLE                   664612 non-null  object \n",
      " 4   FULL_TIME_POSITION          664616 non-null  object \n",
      " 5   CONTINUED_EMPLOYMENT        664616 non-null  object \n",
      " 6   CHANGE_PREVIOUS_EMPLOYMENT  664616 non-null  float64\n",
      " 7   NEW_CONCURRENT_EMPLOYMENT   664615 non-null  float64\n",
      " 8   CHANGE_EMPLOYER             664616 non-null  float64\n",
      " 9   AMENDED_PETITION            664616 non-null  float64\n",
      " 10  EMPLOYER_NAME               664606 non-null  object \n",
      " 11  EMPLOYER_CITY               664611 non-null  object \n",
      " 12  EMPLOYER_STATE              664575 non-null  object \n",
      " 13  PREVAILING_WAGE_1           631369 non-null  float64\n",
      " 14  H-1B_DEPENDENT              649542 non-null  object \n",
      " 15  WILLFUL_VIOLATOR            649537 non-null  object \n",
      " 16  SUPPORT_H1B                 238299 non-null  object \n",
      "dtypes: float64(5), object(12)\n",
      "memory usage: 136.0+ MB\n"
     ]
    }
   ],
   "source": [
    "# to understand df \n",
    "df.info()"
   ]
  },
  {
   "cell_type": "code",
   "execution_count": 7,
   "metadata": {},
   "outputs": [
    {
     "name": "stdout",
     "output_type": "stream",
     "text": [
      "After selecting the required columns, Different Columns present in the dataset are as follows ['CASE_STATUS', 'VISA_CLASS', 'JOB_TITLE', 'SOC_TITLE', 'FULL_TIME_POSITION', 'CONTINUED_EMPLOYMENT', 'CHANGE_PREVIOUS_EMPLOYMENT', 'NEW_CONCURRENT_EMPLOYMENT', 'CHANGE_EMPLOYER', 'AMENDED_PETITION', 'EMPLOYER_NAME', 'EMPLOYER_CITY', 'EMPLOYER_STATE', 'PREVAILING_WAGE_1', 'H-1B_DEPENDENT', 'WILLFUL_VIOLATOR', 'SUPPORT_H1B']\n",
      "After selecting the required columns, total number of columns in the df is 17\n"
     ]
    }
   ],
   "source": [
    "# to print df's columns\n",
    "print(\"After selecting the required columns, Different Columns present in the dataset are as follows {}\".format(list(df.columns)))\n",
    "print(\"After selecting the required columns, total number of columns in the df is {}\".format(len(list(df.columns))))"
   ]
  },
  {
   "cell_type": "code",
   "execution_count": 8,
   "metadata": {},
   "outputs": [
    {
     "data": {
      "text/html": [
       "<div>\n",
       "<style scoped>\n",
       "    .dataframe tbody tr th:only-of-type {\n",
       "        vertical-align: middle;\n",
       "    }\n",
       "\n",
       "    .dataframe tbody tr th {\n",
       "        vertical-align: top;\n",
       "    }\n",
       "\n",
       "    .dataframe thead th {\n",
       "        text-align: right;\n",
       "    }\n",
       "</style>\n",
       "<table border=\"1\" class=\"dataframe\">\n",
       "  <thead>\n",
       "    <tr style=\"text-align: right;\">\n",
       "      <th></th>\n",
       "      <th>CHANGE_PREVIOUS_EMPLOYMENT</th>\n",
       "      <th>NEW_CONCURRENT_EMPLOYMENT</th>\n",
       "      <th>CHANGE_EMPLOYER</th>\n",
       "      <th>AMENDED_PETITION</th>\n",
       "      <th>PREVAILING_WAGE_1</th>\n",
       "    </tr>\n",
       "  </thead>\n",
       "  <tbody>\n",
       "    <tr>\n",
       "      <th>count</th>\n",
       "      <td>664616.000000</td>\n",
       "      <td>664615.000000</td>\n",
       "      <td>664616.000000</td>\n",
       "      <td>664616.000000</td>\n",
       "      <td>631369.000000</td>\n",
       "    </tr>\n",
       "    <tr>\n",
       "      <th>mean</th>\n",
       "      <td>0.121800</td>\n",
       "      <td>0.013208</td>\n",
       "      <td>0.254923</td>\n",
       "      <td>0.223296</td>\n",
       "      <td>84331.625656</td>\n",
       "    </tr>\n",
       "    <tr>\n",
       "      <th>std</th>\n",
       "      <td>0.907174</td>\n",
       "      <td>0.283244</td>\n",
       "      <td>1.109193</td>\n",
       "      <td>0.896687</td>\n",
       "      <td>35950.599109</td>\n",
       "    </tr>\n",
       "    <tr>\n",
       "      <th>min</th>\n",
       "      <td>0.000000</td>\n",
       "      <td>0.000000</td>\n",
       "      <td>0.000000</td>\n",
       "      <td>0.000000</td>\n",
       "      <td>7.250000</td>\n",
       "    </tr>\n",
       "    <tr>\n",
       "      <th>25%</th>\n",
       "      <td>0.000000</td>\n",
       "      <td>0.000000</td>\n",
       "      <td>0.000000</td>\n",
       "      <td>0.000000</td>\n",
       "      <td>68578.000000</td>\n",
       "    </tr>\n",
       "    <tr>\n",
       "      <th>50%</th>\n",
       "      <td>0.000000</td>\n",
       "      <td>0.000000</td>\n",
       "      <td>0.000000</td>\n",
       "      <td>0.000000</td>\n",
       "      <td>84240.000000</td>\n",
       "    </tr>\n",
       "    <tr>\n",
       "      <th>75%</th>\n",
       "      <td>0.000000</td>\n",
       "      <td>0.000000</td>\n",
       "      <td>0.000000</td>\n",
       "      <td>0.000000</td>\n",
       "      <td>102648.000000</td>\n",
       "    </tr>\n",
       "    <tr>\n",
       "      <th>max</th>\n",
       "      <td>338.000000</td>\n",
       "      <td>99.000000</td>\n",
       "      <td>99.000000</td>\n",
       "      <td>99.000000</td>\n",
       "      <td>849680.000000</td>\n",
       "    </tr>\n",
       "  </tbody>\n",
       "</table>\n",
       "</div>"
      ],
      "text/plain": [
       "       CHANGE_PREVIOUS_EMPLOYMENT  NEW_CONCURRENT_EMPLOYMENT  CHANGE_EMPLOYER  \\\n",
       "count               664616.000000              664615.000000    664616.000000   \n",
       "mean                     0.121800                   0.013208         0.254923   \n",
       "std                      0.907174                   0.283244         1.109193   \n",
       "min                      0.000000                   0.000000         0.000000   \n",
       "25%                      0.000000                   0.000000         0.000000   \n",
       "50%                      0.000000                   0.000000         0.000000   \n",
       "75%                      0.000000                   0.000000         0.000000   \n",
       "max                    338.000000                  99.000000        99.000000   \n",
       "\n",
       "       AMENDED_PETITION  PREVAILING_WAGE_1  \n",
       "count     664616.000000      631369.000000  \n",
       "mean           0.223296       84331.625656  \n",
       "std            0.896687       35950.599109  \n",
       "min            0.000000           7.250000  \n",
       "25%            0.000000       68578.000000  \n",
       "50%            0.000000       84240.000000  \n",
       "75%            0.000000      102648.000000  \n",
       "max           99.000000      849680.000000  "
      ]
     },
     "execution_count": 8,
     "metadata": {},
     "output_type": "execute_result"
    }
   ],
   "source": [
    "# to print df's describe command\n",
    "df.describe()"
   ]
  },
  {
   "cell_type": "code",
   "execution_count": 9,
   "metadata": {},
   "outputs": [
    {
     "data": {
      "text/plain": [
       "CASE_STATUS                    object\n",
       "VISA_CLASS                     object\n",
       "JOB_TITLE                      object\n",
       "SOC_TITLE                      object\n",
       "FULL_TIME_POSITION             object\n",
       "CONTINUED_EMPLOYMENT           object\n",
       "CHANGE_PREVIOUS_EMPLOYMENT    float64\n",
       "NEW_CONCURRENT_EMPLOYMENT     float64\n",
       "CHANGE_EMPLOYER               float64\n",
       "AMENDED_PETITION              float64\n",
       "EMPLOYER_NAME                  object\n",
       "EMPLOYER_CITY                  object\n",
       "EMPLOYER_STATE                 object\n",
       "PREVAILING_WAGE_1             float64\n",
       "H-1B_DEPENDENT                 object\n",
       "WILLFUL_VIOLATOR               object\n",
       "SUPPORT_H1B                    object\n",
       "dtype: object"
      ]
     },
     "execution_count": 9,
     "metadata": {},
     "output_type": "execute_result"
    }
   ],
   "source": [
    "# to print the df's data types\n",
    "df.dtypes"
   ]
  },
  {
   "cell_type": "code",
   "execution_count": 10,
   "metadata": {},
   "outputs": [
    {
     "data": {
      "text/html": [
       "<div>\n",
       "<style scoped>\n",
       "    .dataframe tbody tr th:only-of-type {\n",
       "        vertical-align: middle;\n",
       "    }\n",
       "\n",
       "    .dataframe tbody tr th {\n",
       "        vertical-align: top;\n",
       "    }\n",
       "\n",
       "    .dataframe thead th {\n",
       "        text-align: right;\n",
       "    }\n",
       "</style>\n",
       "<table border=\"1\" class=\"dataframe\">\n",
       "  <thead>\n",
       "    <tr style=\"text-align: right;\">\n",
       "      <th></th>\n",
       "      <th>CASE_STATUS</th>\n",
       "      <th>VISA_CLASS</th>\n",
       "      <th>JOB_TITLE</th>\n",
       "      <th>SOC_TITLE</th>\n",
       "      <th>FULL_TIME_POSITION</th>\n",
       "      <th>CONTINUED_EMPLOYMENT</th>\n",
       "      <th>EMPLOYER_NAME</th>\n",
       "      <th>EMPLOYER_CITY</th>\n",
       "      <th>EMPLOYER_STATE</th>\n",
       "      <th>H-1B_DEPENDENT</th>\n",
       "      <th>WILLFUL_VIOLATOR</th>\n",
       "      <th>SUPPORT_H1B</th>\n",
       "    </tr>\n",
       "  </thead>\n",
       "  <tbody>\n",
       "    <tr>\n",
       "      <th>count</th>\n",
       "      <td>664616</td>\n",
       "      <td>664616</td>\n",
       "      <td>664615</td>\n",
       "      <td>664612</td>\n",
       "      <td>664616</td>\n",
       "      <td>664616</td>\n",
       "      <td>664606</td>\n",
       "      <td>664611</td>\n",
       "      <td>664575</td>\n",
       "      <td>649542</td>\n",
       "      <td>649537</td>\n",
       "      <td>238299</td>\n",
       "    </tr>\n",
       "    <tr>\n",
       "      <th>unique</th>\n",
       "      <td>4</td>\n",
       "      <td>4</td>\n",
       "      <td>114299</td>\n",
       "      <td>925</td>\n",
       "      <td>2</td>\n",
       "      <td>30</td>\n",
       "      <td>70362</td>\n",
       "      <td>5032</td>\n",
       "      <td>57</td>\n",
       "      <td>2</td>\n",
       "      <td>2</td>\n",
       "      <td>2</td>\n",
       "    </tr>\n",
       "    <tr>\n",
       "      <th>top</th>\n",
       "      <td>CERTIFIED</td>\n",
       "      <td>H-1B</td>\n",
       "      <td>SOFTWARE ENGINEER</td>\n",
       "      <td>SOFTWARE DEVELOPERS, APPLICATIONS</td>\n",
       "      <td>Y</td>\n",
       "      <td>0</td>\n",
       "      <td>COGNIZANT TECHNOLOGY SOLUTIONS US CORP</td>\n",
       "      <td>NEW YORK</td>\n",
       "      <td>CA</td>\n",
       "      <td>N</td>\n",
       "      <td>N</td>\n",
       "      <td>Y</td>\n",
       "    </tr>\n",
       "    <tr>\n",
       "      <th>freq</th>\n",
       "      <td>592103</td>\n",
       "      <td>649083</td>\n",
       "      <td>34691</td>\n",
       "      <td>216551</td>\n",
       "      <td>653376</td>\n",
       "      <td>502192</td>\n",
       "      <td>28475</td>\n",
       "      <td>32807</td>\n",
       "      <td>120095</td>\n",
       "      <td>411869</td>\n",
       "      <td>649257</td>\n",
       "      <td>236049</td>\n",
       "    </tr>\n",
       "  </tbody>\n",
       "</table>\n",
       "</div>"
      ],
      "text/plain": [
       "       CASE_STATUS VISA_CLASS          JOB_TITLE  \\\n",
       "count       664616     664616             664615   \n",
       "unique           4          4             114299   \n",
       "top      CERTIFIED       H-1B  SOFTWARE ENGINEER   \n",
       "freq        592103     649083              34691   \n",
       "\n",
       "                                SOC_TITLE FULL_TIME_POSITION  \\\n",
       "count                              664612             664616   \n",
       "unique                                925                  2   \n",
       "top     SOFTWARE DEVELOPERS, APPLICATIONS                  Y   \n",
       "freq                               216551             653376   \n",
       "\n",
       "       CONTINUED_EMPLOYMENT                           EMPLOYER_NAME  \\\n",
       "count                664616                                  664606   \n",
       "unique                   30                                   70362   \n",
       "top                       0  COGNIZANT TECHNOLOGY SOLUTIONS US CORP   \n",
       "freq                 502192                                   28475   \n",
       "\n",
       "       EMPLOYER_CITY EMPLOYER_STATE H-1B_DEPENDENT WILLFUL_VIOLATOR  \\\n",
       "count         664611         664575         649542           649537   \n",
       "unique          5032             57              2                2   \n",
       "top         NEW YORK             CA              N                N   \n",
       "freq           32807         120095         411869           649257   \n",
       "\n",
       "       SUPPORT_H1B  \n",
       "count       238299  \n",
       "unique           2  \n",
       "top              Y  \n",
       "freq        236049  "
      ]
     },
     "execution_count": 10,
     "metadata": {},
     "output_type": "execute_result"
    }
   ],
   "source": [
    "# to describe the discrete columns\n",
    "df.describe(include=['object'])"
   ]
  },
  {
   "cell_type": "code",
   "execution_count": 11,
   "metadata": {},
   "outputs": [
    {
     "data": {
      "text/html": [
       "<div>\n",
       "<style scoped>\n",
       "    .dataframe tbody tr th:only-of-type {\n",
       "        vertical-align: middle;\n",
       "    }\n",
       "\n",
       "    .dataframe tbody tr th {\n",
       "        vertical-align: top;\n",
       "    }\n",
       "\n",
       "    .dataframe thead th {\n",
       "        text-align: right;\n",
       "    }\n",
       "</style>\n",
       "<table border=\"1\" class=\"dataframe\">\n",
       "  <thead>\n",
       "    <tr style=\"text-align: right;\">\n",
       "      <th></th>\n",
       "      <th>CHANGE_PREVIOUS_EMPLOYMENT</th>\n",
       "      <th>NEW_CONCURRENT_EMPLOYMENT</th>\n",
       "      <th>CHANGE_EMPLOYER</th>\n",
       "      <th>AMENDED_PETITION</th>\n",
       "      <th>PREVAILING_WAGE_1</th>\n",
       "    </tr>\n",
       "  </thead>\n",
       "  <tbody>\n",
       "    <tr>\n",
       "      <th>count</th>\n",
       "      <td>664616.000000</td>\n",
       "      <td>664615.000000</td>\n",
       "      <td>664616.000000</td>\n",
       "      <td>664616.000000</td>\n",
       "      <td>631369.000000</td>\n",
       "    </tr>\n",
       "    <tr>\n",
       "      <th>mean</th>\n",
       "      <td>0.121800</td>\n",
       "      <td>0.013208</td>\n",
       "      <td>0.254923</td>\n",
       "      <td>0.223296</td>\n",
       "      <td>84331.625656</td>\n",
       "    </tr>\n",
       "    <tr>\n",
       "      <th>std</th>\n",
       "      <td>0.907174</td>\n",
       "      <td>0.283244</td>\n",
       "      <td>1.109193</td>\n",
       "      <td>0.896687</td>\n",
       "      <td>35950.599109</td>\n",
       "    </tr>\n",
       "    <tr>\n",
       "      <th>min</th>\n",
       "      <td>0.000000</td>\n",
       "      <td>0.000000</td>\n",
       "      <td>0.000000</td>\n",
       "      <td>0.000000</td>\n",
       "      <td>7.250000</td>\n",
       "    </tr>\n",
       "    <tr>\n",
       "      <th>25%</th>\n",
       "      <td>0.000000</td>\n",
       "      <td>0.000000</td>\n",
       "      <td>0.000000</td>\n",
       "      <td>0.000000</td>\n",
       "      <td>68578.000000</td>\n",
       "    </tr>\n",
       "    <tr>\n",
       "      <th>50%</th>\n",
       "      <td>0.000000</td>\n",
       "      <td>0.000000</td>\n",
       "      <td>0.000000</td>\n",
       "      <td>0.000000</td>\n",
       "      <td>84240.000000</td>\n",
       "    </tr>\n",
       "    <tr>\n",
       "      <th>75%</th>\n",
       "      <td>0.000000</td>\n",
       "      <td>0.000000</td>\n",
       "      <td>0.000000</td>\n",
       "      <td>0.000000</td>\n",
       "      <td>102648.000000</td>\n",
       "    </tr>\n",
       "    <tr>\n",
       "      <th>max</th>\n",
       "      <td>338.000000</td>\n",
       "      <td>99.000000</td>\n",
       "      <td>99.000000</td>\n",
       "      <td>99.000000</td>\n",
       "      <td>849680.000000</td>\n",
       "    </tr>\n",
       "  </tbody>\n",
       "</table>\n",
       "</div>"
      ],
      "text/plain": [
       "       CHANGE_PREVIOUS_EMPLOYMENT  NEW_CONCURRENT_EMPLOYMENT  CHANGE_EMPLOYER  \\\n",
       "count               664616.000000              664615.000000    664616.000000   \n",
       "mean                     0.121800                   0.013208         0.254923   \n",
       "std                      0.907174                   0.283244         1.109193   \n",
       "min                      0.000000                   0.000000         0.000000   \n",
       "25%                      0.000000                   0.000000         0.000000   \n",
       "50%                      0.000000                   0.000000         0.000000   \n",
       "75%                      0.000000                   0.000000         0.000000   \n",
       "max                    338.000000                  99.000000        99.000000   \n",
       "\n",
       "       AMENDED_PETITION  PREVAILING_WAGE_1  \n",
       "count     664616.000000      631369.000000  \n",
       "mean           0.223296       84331.625656  \n",
       "std            0.896687       35950.599109  \n",
       "min            0.000000           7.250000  \n",
       "25%            0.000000       68578.000000  \n",
       "50%            0.000000       84240.000000  \n",
       "75%            0.000000      102648.000000  \n",
       "max           99.000000      849680.000000  "
      ]
     },
     "execution_count": 11,
     "metadata": {},
     "output_type": "execute_result"
    }
   ],
   "source": [
    "# to describe the discrete columns\n",
    "df.describe(include=['float64'])"
   ]
  },
  {
   "cell_type": "code",
   "execution_count": 12,
   "metadata": {},
   "outputs": [
    {
     "name": "stdout",
     "output_type": "stream",
     "text": [
      "Total Number of rows present in the dataset is 1048547\n",
      "Total Number of columns present in the dataset is 17\n"
     ]
    }
   ],
   "source": [
    "# Total no of rows and columns\n",
    "df.shape\n",
    "print(\"Total Number of rows present in the dataset is {}\".format(df.shape[0]))\n",
    "print(\"Total Number of columns present in the dataset is {}\".format(df.shape[1]))"
   ]
  },
  {
   "cell_type": "code",
   "execution_count": 13,
   "metadata": {},
   "outputs": [],
   "source": [
    "df.drop_duplicates(inplace=True)"
   ]
  },
  {
   "cell_type": "code",
   "execution_count": 14,
   "metadata": {},
   "outputs": [
    {
     "name": "stdout",
     "output_type": "stream",
     "text": [
      "Total Number of rows present in the dataset is 472539\n",
      "Total Number of columns present in the dataset is 17\n"
     ]
    }
   ],
   "source": [
    "# Total no of rows and columns\n",
    "df.shape\n",
    "print(\"Total Number of rows present in the dataset is {}\".format(df.shape[0]))\n",
    "print(\"Total Number of columns present in the dataset is {}\".format(df.shape[1]))"
   ]
  },
  {
   "cell_type": "code",
   "execution_count": 15,
   "metadata": {},
   "outputs": [
    {
     "name": "stdout",
     "output_type": "stream",
     "text": [
      "CERTIFIED              412284\n",
      "CERTIFIED-WITHDRAWN     37769\n",
      "WITHDRAWN               17222\n",
      "DENIED                   5263\n",
      "Name: CASE_STATUS, dtype: int64\n"
     ]
    },
    {
     "data": {
      "text/plain": [
       "<matplotlib.axes._subplots.AxesSubplot at 0x1f012bdd850>"
      ]
     },
     "execution_count": 15,
     "metadata": {},
     "output_type": "execute_result"
    },
    {
     "data": {
      "image/png": "[encoded data removed]",
      "text/plain": [
       "<Figure size 432x288 with 1 Axes>"
      ]
     },
     "metadata": {
      "needs_background": "light"
     },
     "output_type": "display_data"
    }
   ],
   "source": [
    "# this is a classification problem, so wanted to see the distinct values present in the target variable\n",
    "\n",
    "df_Case_Status = df['CASE_STATUS'].value_counts()\n",
    "print(df_Case_Status)\n",
    "sns.barplot(df_Case_Status.values, df_Case_Status.index)"
   ]
  },
  {
   "cell_type": "code",
   "execution_count": 16,
   "metadata": {},
   "outputs": [],
   "source": [
    "# From the above diagram, it is clear the above problem is clearly an imbalanced dataset. In order to handle the imbalanced dataset\n",
    "#We need to able Smote analysis, i.e. Oversampling so that we can perform the machine learning without doing Overfitting.\n",
    "#Suppose if in case we don't perform the oversampling then model tends to predict the class which is present more"
   ]
  },
  {
   "cell_type": "code",
   "execution_count": 17,
   "metadata": {},
   "outputs": [
    {
     "name": "stdout",
     "output_type": "stream",
     "text": [
      "Count of records after considering only H1-B cases is 458232\n"
     ]
    }
   ],
   "source": [
    "# We are interested only in H1B cases and not all the data\n",
    "# Here we will consider only H1B for our analysis\n",
    "df = df[(df['VISA_CLASS'] == 'H-1B')]\n",
    "print('Count of records after considering only H1-B cases is {}'.format(len(df)))"
   ]
  },
  {
   "cell_type": "code",
   "execution_count": 18,
   "metadata": {},
   "outputs": [],
   "source": [
    "df['EMPLOYER_NAME'] = df['EMPLOYER_NAME'].str.upper()\n",
    "df['SOC_TITLE'] = df['SOC_TITLE'].str.upper()\n",
    "df['JOB_TITLE'] = df['JOB_TITLE'].str.upper()\n",
    "df['FULL_TIME_POSITION'] = df['FULL_TIME_POSITION'].str.upper()\n",
    "df.rename(columns={'PREVAILING_WAGE_1':'PREVAILING_WAGE'},inplace=True)"
   ]
  },
  {
   "cell_type": "code",
   "execution_count": 19,
   "metadata": {},
   "outputs": [],
   "source": [
    "# We will convert into binary classifcation problem\n",
    "case_status = {'CERTIFIED':0 , 'CERTIFIED-WITHDRAWN':0 ,'DENIED':1,'WITHDRAWN':1}\n",
    "df['CASE_STATUS'] = df['CASE_STATUS'].map(case_status)\n"
   ]
  },
  {
   "cell_type": "code",
   "execution_count": 20,
   "metadata": {},
   "outputs": [],
   "source": [
    "df_denied = df[df['CASE_STATUS'] == 1]\n",
    "df_accepted = df[(df['CASE_STATUS'] == 0) & (df['PREVAILING_WAGE'].notnull()) & (df['PREVAILING_WAGE'] > 20000) & (df['PREVAILING_WAGE'] < 160000)]\n",
    "from sklearn.model_selection import train_test_split\n",
    "df_certified_s1, df_certified_s2, y_certified_1, y_certified_2 = train_test_split(df[(df['CASE_STATUS'] == 0) & (df['PREVAILING_WAGE'].notnull()) & (df['PREVAILING_WAGE'] > 20000) & (df['PREVAILING_WAGE'] < 160000)],df_accepted.CASE_STATUS, train_size= 0.07, random_state=1)"
   ]
  },
  {
   "cell_type": "code",
   "execution_count": 21,
   "metadata": {},
   "outputs": [
    {
     "data": {
      "text/plain": [
       "(26281, 17)"
      ]
     },
     "execution_count": 21,
     "metadata": {},
     "output_type": "execute_result"
    }
   ],
   "source": [
    "df_certified_s1.shape"
   ]
  },
  {
   "cell_type": "code",
   "execution_count": 22,
   "metadata": {},
   "outputs": [
    {
     "data": {
      "text/plain": [
       "(21394, 17)"
      ]
     },
     "execution_count": 22,
     "metadata": {},
     "output_type": "execute_result"
    }
   ],
   "source": [
    "df_denied.shape"
   ]
  },
  {
   "cell_type": "code",
   "execution_count": 23,
   "metadata": {},
   "outputs": [],
   "source": [
    "final_df = df_certified_s1.append(df_denied)"
   ]
  },
  {
   "cell_type": "code",
   "execution_count": 24,
   "metadata": {},
   "outputs": [
    {
     "name": "stdout",
     "output_type": "stream",
     "text": [
      "Percentage of Certified cases are 55.12532773990561\n",
      "Percentage of Denied cases are 44.87467226009439\n"
     ]
    }
   ],
   "source": [
    "total_number_cases = list(final_df['CASE_STATUS'].value_counts().values)\n",
    "print('Percentage of Certified cases are {}'.format(total_number_cases[0]* 100/sum(total_number_cases)))\n",
    "print('Percentage of Denied cases are {}'.format(total_number_cases[1]* 100/sum(total_number_cases)))"
   ]
  },
  {
   "cell_type": "code",
   "execution_count": 25,
   "metadata": {},
   "outputs": [
    {
     "data": {
      "text/html": [
       "<div>\n",
       "<style scoped>\n",
       "    .dataframe tbody tr th:only-of-type {\n",
       "        vertical-align: middle;\n",
       "    }\n",
       "\n",
       "    .dataframe tbody tr th {\n",
       "        vertical-align: top;\n",
       "    }\n",
       "\n",
       "    .dataframe thead th {\n",
       "        text-align: right;\n",
       "    }\n",
       "</style>\n",
       "<table border=\"1\" class=\"dataframe\">\n",
       "  <thead>\n",
       "    <tr style=\"text-align: right;\">\n",
       "      <th></th>\n",
       "      <th>CASE_STATUS</th>\n",
       "      <th>VISA_CLASS</th>\n",
       "      <th>JOB_TITLE</th>\n",
       "      <th>SOC_TITLE</th>\n",
       "      <th>FULL_TIME_POSITION</th>\n",
       "      <th>CONTINUED_EMPLOYMENT</th>\n",
       "      <th>CHANGE_PREVIOUS_EMPLOYMENT</th>\n",
       "      <th>NEW_CONCURRENT_EMPLOYMENT</th>\n",
       "      <th>CHANGE_EMPLOYER</th>\n",
       "      <th>AMENDED_PETITION</th>\n",
       "      <th>EMPLOYER_NAME</th>\n",
       "      <th>EMPLOYER_CITY</th>\n",
       "      <th>EMPLOYER_STATE</th>\n",
       "      <th>PREVAILING_WAGE</th>\n",
       "      <th>H-1B_DEPENDENT</th>\n",
       "      <th>WILLFUL_VIOLATOR</th>\n",
       "      <th>SUPPORT_H1B</th>\n",
       "    </tr>\n",
       "  </thead>\n",
       "  <tbody>\n",
       "    <tr>\n",
       "      <th>465031</th>\n",
       "      <td>0</td>\n",
       "      <td>H-1B</td>\n",
       "      <td>SENIOR ASSOCIATE, DATA SCIENTIST</td>\n",
       "      <td>COMPUTER OCCUPATIONS, ALL OTHER</td>\n",
       "      <td>Y</td>\n",
       "      <td>0</td>\n",
       "      <td>0.0</td>\n",
       "      <td>0.0</td>\n",
       "      <td>0.0</td>\n",
       "      <td>0.0</td>\n",
       "      <td>KPMG LLP</td>\n",
       "      <td>DALLAS</td>\n",
       "      <td>TX</td>\n",
       "      <td>74048.0</td>\n",
       "      <td>N</td>\n",
       "      <td>N</td>\n",
       "      <td>NaN</td>\n",
       "    </tr>\n",
       "    <tr>\n",
       "      <th>364395</th>\n",
       "      <td>0</td>\n",
       "      <td>H-1B</td>\n",
       "      <td>SR. SOFTWARE DEVELOPER</td>\n",
       "      <td>SOFTWARE DEVELOPERS, APPLICATIONS</td>\n",
       "      <td>Y</td>\n",
       "      <td>0</td>\n",
       "      <td>1.0</td>\n",
       "      <td>0.0</td>\n",
       "      <td>0.0</td>\n",
       "      <td>0.0</td>\n",
       "      <td>SRS CONSULTING INC.</td>\n",
       "      <td>FREMONT</td>\n",
       "      <td>CA</td>\n",
       "      <td>108784.0</td>\n",
       "      <td>Y</td>\n",
       "      <td>N</td>\n",
       "      <td>Y</td>\n",
       "    </tr>\n",
       "    <tr>\n",
       "      <th>3317</th>\n",
       "      <td>0</td>\n",
       "      <td>H-1B</td>\n",
       "      <td>DIRECTOR BUSINESS DEVELOPMENT</td>\n",
       "      <td>MARKETING MANAGERS</td>\n",
       "      <td>Y</td>\n",
       "      <td>0</td>\n",
       "      <td>0.0</td>\n",
       "      <td>0.0</td>\n",
       "      <td>1.0</td>\n",
       "      <td>0.0</td>\n",
       "      <td>BAHWAN CYBERTEK INC.</td>\n",
       "      <td>NATICK</td>\n",
       "      <td>MA</td>\n",
       "      <td>113859.0</td>\n",
       "      <td>Y</td>\n",
       "      <td>N</td>\n",
       "      <td>Y</td>\n",
       "    </tr>\n",
       "    <tr>\n",
       "      <th>124799</th>\n",
       "      <td>0</td>\n",
       "      <td>H-1B</td>\n",
       "      <td>FUNCTIONAL CONSULTANT</td>\n",
       "      <td>COMPUTER SYSTEMS ANALYSTS</td>\n",
       "      <td>Y</td>\n",
       "      <td>0</td>\n",
       "      <td>1.0</td>\n",
       "      <td>0.0</td>\n",
       "      <td>0.0</td>\n",
       "      <td>0.0</td>\n",
       "      <td>TATA CONSULTANCY SERVICES LIMITED</td>\n",
       "      <td>ROCKVILLE</td>\n",
       "      <td>MD</td>\n",
       "      <td>69701.0</td>\n",
       "      <td>Y</td>\n",
       "      <td>N</td>\n",
       "      <td>Y</td>\n",
       "    </tr>\n",
       "    <tr>\n",
       "      <th>36803</th>\n",
       "      <td>0</td>\n",
       "      <td>H-1B</td>\n",
       "      <td>CONSULTANT</td>\n",
       "      <td>MANAGEMENT ANALYSTS</td>\n",
       "      <td>Y</td>\n",
       "      <td>0</td>\n",
       "      <td>1.0</td>\n",
       "      <td>0.0</td>\n",
       "      <td>1.0</td>\n",
       "      <td>0.0</td>\n",
       "      <td>DELOITTE CONSULTING LLP</td>\n",
       "      <td>PHILADELPHIA</td>\n",
       "      <td>PA</td>\n",
       "      <td>46904.0</td>\n",
       "      <td>N</td>\n",
       "      <td>N</td>\n",
       "      <td>NaN</td>\n",
       "    </tr>\n",
       "  </tbody>\n",
       "</table>\n",
       "</div>"
      ],
      "text/plain": [
       "        CASE_STATUS VISA_CLASS                         JOB_TITLE  \\\n",
       "465031            0       H-1B  SENIOR ASSOCIATE, DATA SCIENTIST   \n",
       "364395            0       H-1B            SR. SOFTWARE DEVELOPER   \n",
       "3317              0       H-1B     DIRECTOR BUSINESS DEVELOPMENT   \n",
       "124799            0       H-1B             FUNCTIONAL CONSULTANT   \n",
       "36803             0       H-1B                        CONSULTANT   \n",
       "\n",
       "                                SOC_TITLE FULL_TIME_POSITION  \\\n",
       "465031    COMPUTER OCCUPATIONS, ALL OTHER                  Y   \n",
       "364395  SOFTWARE DEVELOPERS, APPLICATIONS                  Y   \n",
       "3317                   MARKETING MANAGERS                  Y   \n",
       "124799          COMPUTER SYSTEMS ANALYSTS                  Y   \n",
       "36803                 MANAGEMENT ANALYSTS                  Y   \n",
       "\n",
       "       CONTINUED_EMPLOYMENT  CHANGE_PREVIOUS_EMPLOYMENT  \\\n",
       "465031                    0                         0.0   \n",
       "364395                    0                         1.0   \n",
       "3317                      0                         0.0   \n",
       "124799                    0                         1.0   \n",
       "36803                     0                         1.0   \n",
       "\n",
       "        NEW_CONCURRENT_EMPLOYMENT  CHANGE_EMPLOYER  AMENDED_PETITION  \\\n",
       "465031                        0.0              0.0               0.0   \n",
       "364395                        0.0              0.0               0.0   \n",
       "3317                          0.0              1.0               0.0   \n",
       "124799                        0.0              0.0               0.0   \n",
       "36803                         0.0              1.0               0.0   \n",
       "\n",
       "                            EMPLOYER_NAME EMPLOYER_CITY EMPLOYER_STATE  \\\n",
       "465031                           KPMG LLP        DALLAS             TX   \n",
       "364395                SRS CONSULTING INC.       FREMONT             CA   \n",
       "3317                 BAHWAN CYBERTEK INC.        NATICK             MA   \n",
       "124799  TATA CONSULTANCY SERVICES LIMITED     ROCKVILLE             MD   \n",
       "36803             DELOITTE CONSULTING LLP  PHILADELPHIA             PA   \n",
       "\n",
       "        PREVAILING_WAGE H-1B_DEPENDENT WILLFUL_VIOLATOR SUPPORT_H1B  \n",
       "465031          74048.0              N                N         NaN  \n",
       "364395         108784.0              Y                N           Y  \n",
       "3317           113859.0              Y                N           Y  \n",
       "124799          69701.0              Y                N           Y  \n",
       "36803           46904.0              N                N         NaN  "
      ]
     },
     "execution_count": 25,
     "metadata": {},
     "output_type": "execute_result"
    }
   ],
   "source": [
    "final_df.head()"
   ]
  },
  {
   "cell_type": "code",
   "execution_count": 26,
   "metadata": {},
   "outputs": [
    {
     "data": {
      "text/plain": [
       "CASE_STATUS                       0\n",
       "VISA_CLASS                        0\n",
       "JOB_TITLE                         1\n",
       "SOC_TITLE                         4\n",
       "FULL_TIME_POSITION                0\n",
       "CONTINUED_EMPLOYMENT              0\n",
       "CHANGE_PREVIOUS_EMPLOYMENT        0\n",
       "NEW_CONCURRENT_EMPLOYMENT         0\n",
       "CHANGE_EMPLOYER                   0\n",
       "AMENDED_PETITION                  0\n",
       "EMPLOYER_NAME                     4\n",
       "EMPLOYER_CITY                     1\n",
       "EMPLOYER_STATE                    5\n",
       "PREVAILING_WAGE                2354\n",
       "H-1B_DEPENDENT                   17\n",
       "WILLFUL_VIOLATOR                 17\n",
       "SUPPORT_H1B                   33782\n",
       "dtype: int64"
      ]
     },
     "execution_count": 26,
     "metadata": {},
     "output_type": "execute_result"
    }
   ],
   "source": [
    "# clearly from the above numbers, We come to clear conclusion that we are dealing with an imbalanced dataset\n",
    "# Understanding the null values of df\n",
    "final_df.isnull().sum()"
   ]
  },
  {
   "cell_type": "code",
   "execution_count": 27,
   "metadata": {},
   "outputs": [],
   "source": [
    "final_df['PREVAILING_WAGE'].fillna(final_df['PREVAILING_WAGE'].median(),inplace=True)"
   ]
  },
  {
   "cell_type": "code",
   "execution_count": 28,
   "metadata": {},
   "outputs": [],
   "source": [
    "def wage_division(income):\n",
    "    if income <= 50000:\n",
    "        return \"VERY_LOW\"\n",
    "    elif 50000 < income <= 70000:\n",
    "        return \"LOW\"\n",
    "    elif 70000 < income <= 90000:\n",
    "        return \"MEDIUM\"\n",
    "    elif 90000 < income <= 150000:\n",
    "        return \"HIGH\"\n",
    "    elif income >= 150000:\n",
    "        return \"VERY_HIGH\""
   ]
  },
  {
   "cell_type": "code",
   "execution_count": 29,
   "metadata": {},
   "outputs": [],
   "source": [
    "def h1b_acceptance(approved_ratio):\n",
    "    if approved_ratio == -100:\n",
    "        return \"NOT PRESENT\"\n",
    "    elif approved_ratio<0.20:\n",
    "        return \"VERY_LOW\"\n",
    "    elif approved_ratio>=0.20 and approved_ratio<0.40:\n",
    "        return \"LOW\"\n",
    "    elif approved_ratio>=0.40 and approved_ratio<0.60:\n",
    "        return \"MEDIUM\"\n",
    "    elif approved_ratio>=0.60 and approved_ratio<0.80:\n",
    "        return \"HIGH\"\n",
    "    elif approved_ratio>=0.80:\n",
    "        return \"VERY_HIGH\""
   ]
  },
  {
   "cell_type": "code",
   "execution_count": 30,
   "metadata": {},
   "outputs": [
    {
     "data": {
      "text/plain": [
       "<matplotlib.axes._subplots.AxesSubplot at 0x1f0136ff790>"
      ]
     },
     "execution_count": 30,
     "metadata": {},
     "output_type": "execute_result"
    },
    {
     "data": {
      "image/png": "[encoded data removed]",
      "text/plain": [
       "<Figure size 432x288 with 1 Axes>"
      ]
     },
     "metadata": {
      "needs_background": "light"
     },
     "output_type": "display_data"
    }
   ],
   "source": [
    "sns.boxplot(final_df['PREVAILING_WAGE'])"
   ]
  },
  {
   "cell_type": "code",
   "execution_count": 31,
   "metadata": {},
   "outputs": [],
   "source": [
    "upper_bound = np.nanpercentile(final_df['PREVAILING_WAGE'],97)\n",
    "lower_bound = np.nanpercentile(final_df['PREVAILING_WAGE'],4.2)"
   ]
  },
  {
   "cell_type": "code",
   "execution_count": 32,
   "metadata": {},
   "outputs": [
    {
     "name": "stdout",
     "output_type": "stream",
     "text": [
      "142106.0\n",
      "28434.824000000037\n"
     ]
    }
   ],
   "source": [
    "print(upper_bound)\n",
    "print(lower_bound)"
   ]
  },
  {
   "cell_type": "code",
   "execution_count": null,
   "metadata": {},
   "outputs": [],
   "source": []
  },
  {
   "cell_type": "code",
   "execution_count": 33,
   "metadata": {},
   "outputs": [],
   "source": [
    "final_df.loc[final_df['PREVAILING_WAGE'] > upper_bound,'PREVAILING_WAGE'] = upper_bound\n",
    "final_df.loc[final_df['PREVAILING_WAGE'] < lower_bound,'PREVAILING_WAGE'] = lower_bound"
   ]
  },
  {
   "cell_type": "code",
   "execution_count": 34,
   "metadata": {},
   "outputs": [
    {
     "data": {
      "text/plain": [
       "<matplotlib.axes._subplots.AxesSubplot at 0x1f019caff70>"
      ]
     },
     "execution_count": 34,
     "metadata": {},
     "output_type": "execute_result"
    },
    {
     "data": {
      "image/png": "[encoded data removed]",
      "text/plain": [
       "<Figure size 432x288 with 1 Axes>"
      ]
     },
     "metadata": {
      "needs_background": "light"
     },
     "output_type": "display_data"
    }
   ],
   "source": [
    "sns.distplot(final_df['PREVAILING_WAGE'])"
   ]
  },
  {
   "cell_type": "code",
   "execution_count": 35,
   "metadata": {},
   "outputs": [
    {
     "data": {
      "text/plain": [
       "<matplotlib.axes._subplots.AxesSubplot at 0x1f0136d7dc0>"
      ]
     },
     "execution_count": 35,
     "metadata": {},
     "output_type": "execute_result"
    },
    {
     "data": {
      "image/png": "[encoded data removed]",
      "text/plain": [
       "<Figure size 432x288 with 1 Axes>"
      ]
     },
     "metadata": {
      "needs_background": "light"
     },
     "output_type": "display_data"
    }
   ],
   "source": [
    "sns.boxplot(final_df['PREVAILING_WAGE'])"
   ]
  },
  {
   "cell_type": "code",
   "execution_count": 36,
   "metadata": {},
   "outputs": [],
   "source": [
    "# from the above there is a lot of outlier present. So it is better if we can handle the outlier"
   ]
  },
  {
   "cell_type": "code",
   "execution_count": 37,
   "metadata": {},
   "outputs": [
    {
     "name": "stdout",
     "output_type": "stream",
     "text": [
      "H-1B_DEPENDENT\n",
      "N    33849\n",
      "Y    13809\n",
      "Name: H-1B_DEPENDENT, dtype: int64\n",
      "WILLFUL_VIOLATOR\n",
      "N    47592\n",
      "Y       66\n",
      "Name: WILLFUL_VIOLATOR, dtype: int64\n",
      "SUPPORT_H1B\n",
      "Y    13755\n",
      "N      138\n",
      "Name: SUPPORT_H1B, dtype: int64\n"
     ]
    }
   ],
   "source": [
    "#to understand the null values in the following columns\n",
    "check_columns = ['H-1B_DEPENDENT','WILLFUL_VIOLATOR','SUPPORT_H1B']\n",
    "for i in check_columns:\n",
    "    print(i)\n",
    "    print(final_df[i].value_counts())\n"
   ]
  },
  {
   "cell_type": "code",
   "execution_count": 38,
   "metadata": {},
   "outputs": [
    {
     "name": "stdout",
     "output_type": "stream",
     "text": [
      "H-1B_DEPENDENT\n",
      "N\n",
      "WILLFUL_VIOLATOR\n",
      "N\n",
      "SUPPORT_H1B\n",
      "Y\n"
     ]
    }
   ],
   "source": [
    "# Replace the columns with the mode. i.e with the most repeating values present in that column\n",
    "for i in check_columns:\n",
    "    print(i)\n",
    "    final_df[i] = np.where(final_df[i].isnull(),final_df[i].mode()[0],final_df[i])\n",
    "    print(final_df[i].mode()[0])"
   ]
  },
  {
   "cell_type": "code",
   "execution_count": 39,
   "metadata": {},
   "outputs": [
    {
     "data": {
      "text/plain": [
       "CASE_STATUS                   0\n",
       "VISA_CLASS                    0\n",
       "JOB_TITLE                     1\n",
       "SOC_TITLE                     4\n",
       "FULL_TIME_POSITION            0\n",
       "CONTINUED_EMPLOYMENT          0\n",
       "CHANGE_PREVIOUS_EMPLOYMENT    0\n",
       "NEW_CONCURRENT_EMPLOYMENT     0\n",
       "CHANGE_EMPLOYER               0\n",
       "AMENDED_PETITION              0\n",
       "EMPLOYER_NAME                 4\n",
       "EMPLOYER_CITY                 1\n",
       "EMPLOYER_STATE                5\n",
       "PREVAILING_WAGE               0\n",
       "H-1B_DEPENDENT                0\n",
       "WILLFUL_VIOLATOR              0\n",
       "SUPPORT_H1B                   0\n",
       "dtype: int64"
      ]
     },
     "execution_count": 39,
     "metadata": {},
     "output_type": "execute_result"
    }
   ],
   "source": [
    "# Recheck the null value present in dataframe\n",
    "final_df.isnull().sum()"
   ]
  },
  {
   "cell_type": "code",
   "execution_count": 40,
   "metadata": {},
   "outputs": [],
   "source": [
    "drop_null_column_list = ['SOC_TITLE','EMPLOYER_NAME','EMPLOYER_CITY','EMPLOYER_STATE','NEW_CONCURRENT_EMPLOYMENT',\n",
    "                        'JOB_TITLE']\n",
    "for i in drop_null_column_list:\n",
    "    final_df = final_df[final_df[i].notnull()]"
   ]
  },
  {
   "cell_type": "code",
   "execution_count": 41,
   "metadata": {},
   "outputs": [
    {
     "data": {
      "text/plain": [
       "CASE_STATUS                   0\n",
       "VISA_CLASS                    0\n",
       "JOB_TITLE                     0\n",
       "SOC_TITLE                     0\n",
       "FULL_TIME_POSITION            0\n",
       "CONTINUED_EMPLOYMENT          0\n",
       "CHANGE_PREVIOUS_EMPLOYMENT    0\n",
       "NEW_CONCURRENT_EMPLOYMENT     0\n",
       "CHANGE_EMPLOYER               0\n",
       "AMENDED_PETITION              0\n",
       "EMPLOYER_NAME                 0\n",
       "EMPLOYER_CITY                 0\n",
       "EMPLOYER_STATE                0\n",
       "PREVAILING_WAGE               0\n",
       "H-1B_DEPENDENT                0\n",
       "WILLFUL_VIOLATOR              0\n",
       "SUPPORT_H1B                   0\n",
       "dtype: int64"
      ]
     },
     "execution_count": 41,
     "metadata": {},
     "output_type": "execute_result"
    }
   ],
   "source": [
    "# to find if any null values are present\n",
    "final_df.isnull().sum()"
   ]
  },
  {
   "cell_type": "code",
   "execution_count": 42,
   "metadata": {},
   "outputs": [],
   "source": [
    "final_df = final_df[~final_df['CONTINUED_EMPLOYMENT'].isin(['B'])]\n",
    "final_df['CONTINUED_EMPLOYMENT'] = final_df['CONTINUED_EMPLOYMENT'].astype('int')"
   ]
  },
  {
   "cell_type": "code",
   "execution_count": 43,
   "metadata": {},
   "outputs": [
    {
     "data": {
      "text/plain": [
       "(47659, 17)"
      ]
     },
     "execution_count": 43,
     "metadata": {},
     "output_type": "execute_result"
    }
   ],
   "source": [
    "final_df.shape"
   ]
  },
  {
   "cell_type": "code",
   "execution_count": 44,
   "metadata": {},
   "outputs": [
    {
     "name": "stdout",
     "output_type": "stream",
     "text": [
      "Total Number of rows present in the dataset is 47659\n",
      "Total Number of columns present in the dataset is 17\n"
     ]
    }
   ],
   "source": [
    "# Total no of rows and columns\n",
    "\n",
    "print(\"Total Number of rows present in the dataset is {}\".format(final_df.shape[0]))\n",
    "print(\"Total Number of columns present in the dataset is {}\".format(final_df.shape[1]))"
   ]
  },
  {
   "cell_type": "code",
   "execution_count": 45,
   "metadata": {},
   "outputs": [
    {
     "name": "stdout",
     "output_type": "stream",
     "text": [
      "Percentage of Certified cases are 55.13963784384901\n",
      "Percentage of Denied cases are 44.86036215615099\n"
     ]
    }
   ],
   "source": [
    "total_number_cases = list(final_df['CASE_STATUS'].value_counts().values)\n",
    "print('Percentage of Certified cases are {}'.format(total_number_cases[0]* 100/sum(total_number_cases)))\n",
    "print('Percentage of Denied cases are {}'.format(total_number_cases[1]* 100/sum(total_number_cases)))"
   ]
  },
  {
   "cell_type": "code",
   "execution_count": 46,
   "metadata": {},
   "outputs": [
    {
     "data": {
      "text/plain": [
       "0    26279\n",
       "1    21380\n",
       "Name: CASE_STATUS, dtype: int64"
      ]
     },
     "execution_count": 46,
     "metadata": {},
     "output_type": "execute_result"
    }
   ],
   "source": [
    "final_df['CASE_STATUS'].value_counts()"
   ]
  },
  {
   "cell_type": "code",
   "execution_count": 47,
   "metadata": {},
   "outputs": [],
   "source": [
    "final_df['WAGE_CLASS'] = final_df['PREVAILING_WAGE'].apply(wage_division)"
   ]
  },
  {
   "cell_type": "code",
   "execution_count": 48,
   "metadata": {},
   "outputs": [
    {
     "data": {
      "text/plain": [
       "HIGH        18930\n",
       "MEDIUM      16549\n",
       "LOW          7706\n",
       "VERY_LOW     4474\n",
       "Name: WAGE_CLASS, dtype: int64"
      ]
     },
     "execution_count": 48,
     "metadata": {},
     "output_type": "execute_result"
    }
   ],
   "source": [
    "final_df['WAGE_CLASS'].value_counts()"
   ]
  },
  {
   "cell_type": "code",
   "execution_count": 49,
   "metadata": {},
   "outputs": [],
   "source": [
    "Y_N_dict = {'Y':1, 'N':0}\n",
    "imputating_Y_N_columns = ['H-1B_DEPENDENT','WILLFUL_VIOLATOR', 'FULL_TIME_POSITION', 'SUPPORT_H1B']\n",
    "for i in imputating_Y_N_columns:\n",
    "    final_df[i] = final_df[i].map(Y_N_dict)"
   ]
  },
  {
   "cell_type": "code",
   "execution_count": 50,
   "metadata": {},
   "outputs": [],
   "source": [
    "# Dropping columns which can be of no use to the prediction\n",
    "\n",
    "drop_column_list = ['VISA_CLASS']\n",
    "\n",
    "for i in drop_column_list:\n",
    "    final_df.drop(i,axis=1,inplace=True)"
   ]
  },
  {
   "cell_type": "code",
   "execution_count": 51,
   "metadata": {},
   "outputs": [
    {
     "data": {
      "text/html": [
       "<div>\n",
       "<style scoped>\n",
       "    .dataframe tbody tr th:only-of-type {\n",
       "        vertical-align: middle;\n",
       "    }\n",
       "\n",
       "    .dataframe tbody tr th {\n",
       "        vertical-align: top;\n",
       "    }\n",
       "\n",
       "    .dataframe thead th {\n",
       "        text-align: right;\n",
       "    }\n",
       "</style>\n",
       "<table border=\"1\" class=\"dataframe\">\n",
       "  <thead>\n",
       "    <tr style=\"text-align: right;\">\n",
       "      <th></th>\n",
       "      <th>CASE_STATUS</th>\n",
       "      <th>JOB_TITLE</th>\n",
       "      <th>SOC_TITLE</th>\n",
       "      <th>FULL_TIME_POSITION</th>\n",
       "      <th>CONTINUED_EMPLOYMENT</th>\n",
       "      <th>CHANGE_PREVIOUS_EMPLOYMENT</th>\n",
       "      <th>NEW_CONCURRENT_EMPLOYMENT</th>\n",
       "      <th>CHANGE_EMPLOYER</th>\n",
       "      <th>AMENDED_PETITION</th>\n",
       "      <th>EMPLOYER_NAME</th>\n",
       "      <th>EMPLOYER_CITY</th>\n",
       "      <th>EMPLOYER_STATE</th>\n",
       "      <th>PREVAILING_WAGE</th>\n",
       "      <th>H-1B_DEPENDENT</th>\n",
       "      <th>WILLFUL_VIOLATOR</th>\n",
       "      <th>SUPPORT_H1B</th>\n",
       "      <th>WAGE_CLASS</th>\n",
       "    </tr>\n",
       "  </thead>\n",
       "  <tbody>\n",
       "    <tr>\n",
       "      <th>465031</th>\n",
       "      <td>0</td>\n",
       "      <td>SENIOR ASSOCIATE, DATA SCIENTIST</td>\n",
       "      <td>COMPUTER OCCUPATIONS, ALL OTHER</td>\n",
       "      <td>1</td>\n",
       "      <td>0</td>\n",
       "      <td>0.0</td>\n",
       "      <td>0.0</td>\n",
       "      <td>0.0</td>\n",
       "      <td>0.0</td>\n",
       "      <td>KPMG LLP</td>\n",
       "      <td>DALLAS</td>\n",
       "      <td>TX</td>\n",
       "      <td>74048.0</td>\n",
       "      <td>0</td>\n",
       "      <td>0</td>\n",
       "      <td>1</td>\n",
       "      <td>MEDIUM</td>\n",
       "    </tr>\n",
       "    <tr>\n",
       "      <th>364395</th>\n",
       "      <td>0</td>\n",
       "      <td>SR. SOFTWARE DEVELOPER</td>\n",
       "      <td>SOFTWARE DEVELOPERS, APPLICATIONS</td>\n",
       "      <td>1</td>\n",
       "      <td>0</td>\n",
       "      <td>1.0</td>\n",
       "      <td>0.0</td>\n",
       "      <td>0.0</td>\n",
       "      <td>0.0</td>\n",
       "      <td>SRS CONSULTING INC.</td>\n",
       "      <td>FREMONT</td>\n",
       "      <td>CA</td>\n",
       "      <td>108784.0</td>\n",
       "      <td>1</td>\n",
       "      <td>0</td>\n",
       "      <td>1</td>\n",
       "      <td>HIGH</td>\n",
       "    </tr>\n",
       "    <tr>\n",
       "      <th>3317</th>\n",
       "      <td>0</td>\n",
       "      <td>DIRECTOR BUSINESS DEVELOPMENT</td>\n",
       "      <td>MARKETING MANAGERS</td>\n",
       "      <td>1</td>\n",
       "      <td>0</td>\n",
       "      <td>0.0</td>\n",
       "      <td>0.0</td>\n",
       "      <td>1.0</td>\n",
       "      <td>0.0</td>\n",
       "      <td>BAHWAN CYBERTEK INC.</td>\n",
       "      <td>NATICK</td>\n",
       "      <td>MA</td>\n",
       "      <td>113859.0</td>\n",
       "      <td>1</td>\n",
       "      <td>0</td>\n",
       "      <td>1</td>\n",
       "      <td>HIGH</td>\n",
       "    </tr>\n",
       "    <tr>\n",
       "      <th>124799</th>\n",
       "      <td>0</td>\n",
       "      <td>FUNCTIONAL CONSULTANT</td>\n",
       "      <td>COMPUTER SYSTEMS ANALYSTS</td>\n",
       "      <td>1</td>\n",
       "      <td>0</td>\n",
       "      <td>1.0</td>\n",
       "      <td>0.0</td>\n",
       "      <td>0.0</td>\n",
       "      <td>0.0</td>\n",
       "      <td>TATA CONSULTANCY SERVICES LIMITED</td>\n",
       "      <td>ROCKVILLE</td>\n",
       "      <td>MD</td>\n",
       "      <td>69701.0</td>\n",
       "      <td>1</td>\n",
       "      <td>0</td>\n",
       "      <td>1</td>\n",
       "      <td>LOW</td>\n",
       "    </tr>\n",
       "    <tr>\n",
       "      <th>36803</th>\n",
       "      <td>0</td>\n",
       "      <td>CONSULTANT</td>\n",
       "      <td>MANAGEMENT ANALYSTS</td>\n",
       "      <td>1</td>\n",
       "      <td>0</td>\n",
       "      <td>1.0</td>\n",
       "      <td>0.0</td>\n",
       "      <td>1.0</td>\n",
       "      <td>0.0</td>\n",
       "      <td>DELOITTE CONSULTING LLP</td>\n",
       "      <td>PHILADELPHIA</td>\n",
       "      <td>PA</td>\n",
       "      <td>46904.0</td>\n",
       "      <td>0</td>\n",
       "      <td>0</td>\n",
       "      <td>1</td>\n",
       "      <td>VERY_LOW</td>\n",
       "    </tr>\n",
       "  </tbody>\n",
       "</table>\n",
       "</div>"
      ],
      "text/plain": [
       "        CASE_STATUS                         JOB_TITLE  \\\n",
       "465031            0  SENIOR ASSOCIATE, DATA SCIENTIST   \n",
       "364395            0            SR. SOFTWARE DEVELOPER   \n",
       "3317              0     DIRECTOR BUSINESS DEVELOPMENT   \n",
       "124799            0             FUNCTIONAL CONSULTANT   \n",
       "36803             0                        CONSULTANT   \n",
       "\n",
       "                                SOC_TITLE  FULL_TIME_POSITION  \\\n",
       "465031    COMPUTER OCCUPATIONS, ALL OTHER                   1   \n",
       "364395  SOFTWARE DEVELOPERS, APPLICATIONS                   1   \n",
       "3317                   MARKETING MANAGERS                   1   \n",
       "124799          COMPUTER SYSTEMS ANALYSTS                   1   \n",
       "36803                 MANAGEMENT ANALYSTS                   1   \n",
       "\n",
       "        CONTINUED_EMPLOYMENT  CHANGE_PREVIOUS_EMPLOYMENT  \\\n",
       "465031                     0                         0.0   \n",
       "364395                     0                         1.0   \n",
       "3317                       0                         0.0   \n",
       "124799                     0                         1.0   \n",
       "36803                      0                         1.0   \n",
       "\n",
       "        NEW_CONCURRENT_EMPLOYMENT  CHANGE_EMPLOYER  AMENDED_PETITION  \\\n",
       "465031                        0.0              0.0               0.0   \n",
       "364395                        0.0              0.0               0.0   \n",
       "3317                          0.0              1.0               0.0   \n",
       "124799                        0.0              0.0               0.0   \n",
       "36803                         0.0              1.0               0.0   \n",
       "\n",
       "                            EMPLOYER_NAME EMPLOYER_CITY EMPLOYER_STATE  \\\n",
       "465031                           KPMG LLP        DALLAS             TX   \n",
       "364395                SRS CONSULTING INC.       FREMONT             CA   \n",
       "3317                 BAHWAN CYBERTEK INC.        NATICK             MA   \n",
       "124799  TATA CONSULTANCY SERVICES LIMITED     ROCKVILLE             MD   \n",
       "36803             DELOITTE CONSULTING LLP  PHILADELPHIA             PA   \n",
       "\n",
       "        PREVAILING_WAGE  H-1B_DEPENDENT  WILLFUL_VIOLATOR  SUPPORT_H1B  \\\n",
       "465031          74048.0               0                 0            1   \n",
       "364395         108784.0               1                 0            1   \n",
       "3317           113859.0               1                 0            1   \n",
       "124799          69701.0               1                 0            1   \n",
       "36803           46904.0               0                 0            1   \n",
       "\n",
       "       WAGE_CLASS  \n",
       "465031     MEDIUM  \n",
       "364395       HIGH  \n",
       "3317         HIGH  \n",
       "124799        LOW  \n",
       "36803    VERY_LOW  "
      ]
     },
     "execution_count": 51,
     "metadata": {},
     "output_type": "execute_result"
    }
   ],
   "source": [
    "final_df.head()"
   ]
  },
  {
   "cell_type": "code",
   "execution_count": 52,
   "metadata": {},
   "outputs": [
    {
     "data": {
      "image/png": "[encoded data removed]",
      "text/plain": [
       "<Figure size 432x288 with 1 Axes>"
      ]
     },
     "metadata": {
      "needs_background": "light"
     },
     "output_type": "display_data"
    },
    {
     "data": {
      "image/png": "[encoded data removed]",
      "text/plain": [
       "<Figure size 432x288 with 1 Axes>"
      ]
     },
     "metadata": {
      "needs_background": "light"
     },
     "output_type": "display_data"
    },
    {
     "data": {
      "image/png": "[encoded data removed]",
      "text/plain": [
       "<Figure size 432x288 with 1 Axes>"
      ]
     },
     "metadata": {
      "needs_background": "light"
     },
     "output_type": "display_data"
    }
   ],
   "source": [
    "#findind the top 10 category in the following field\n",
    "top_10 = ['EMPLOYER_NAME','EMPLOYER_CITY', 'EMPLOYER_STATE']\n",
    "\n",
    "for i in top_10:\n",
    "    df_check_top10 = df[i].value_counts()[:10]\n",
    "    sns.barplot(df_check_top10.values, df_check_top10.index)\n",
    "    plt.title('Top 10 categories present in the field {}'.format(i))\n",
    "    plt.show()"
   ]
  },
  {
   "cell_type": "code",
   "execution_count": 53,
   "metadata": {},
   "outputs": [
    {
     "data": {
      "text/plain": [
       "<matplotlib.axes._subplots.AxesSubplot at 0x1f019cb3580>"
      ]
     },
     "execution_count": 53,
     "metadata": {},
     "output_type": "execute_result"
    },
    {
     "data": {
      "image/png": "[encoded data removed]",
      "text/plain": [
       "<Figure size 432x288 with 2 Axes>"
      ]
     },
     "metadata": {
      "needs_background": "light"
     },
     "output_type": "display_data"
    }
   ],
   "source": [
    "sns.heatmap(df.corr())"
   ]
  },
  {
   "cell_type": "code",
   "execution_count": 54,
   "metadata": {},
   "outputs": [
    {
     "name": "stdout",
     "output_type": "stream",
     "text": [
      "[]\n"
     ]
    }
   ],
   "source": [
    "# Create correlation matrix\n",
    "corr_matrix = df.corr().abs()\n",
    "\n",
    "# Select upper triangle of correlation matrix\n",
    "upper = corr_matrix.where(np.triu(np.ones(corr_matrix.shape), k=1).astype(np.bool))\n",
    "\n",
    "# Find index of feature columns with correlation greater than 0.95\n",
    "to_drop = [column for column in upper.columns if any(upper[column] > 0.95)]\n",
    "print(to_drop)"
   ]
  },
  {
   "cell_type": "code",
   "execution_count": 55,
   "metadata": {},
   "outputs": [
    {
     "data": {
      "text/html": [
       "<div>\n",
       "<style scoped>\n",
       "    .dataframe tbody tr th:only-of-type {\n",
       "        vertical-align: middle;\n",
       "    }\n",
       "\n",
       "    .dataframe tbody tr th {\n",
       "        vertical-align: top;\n",
       "    }\n",
       "\n",
       "    .dataframe thead th {\n",
       "        text-align: right;\n",
       "    }\n",
       "</style>\n",
       "<table border=\"1\" class=\"dataframe\">\n",
       "  <thead>\n",
       "    <tr style=\"text-align: right;\">\n",
       "      <th></th>\n",
       "      <th>CASE_STATUS</th>\n",
       "      <th>CHANGE_PREVIOUS_EMPLOYMENT</th>\n",
       "      <th>NEW_CONCURRENT_EMPLOYMENT</th>\n",
       "      <th>CHANGE_EMPLOYER</th>\n",
       "      <th>AMENDED_PETITION</th>\n",
       "      <th>PREVAILING_WAGE</th>\n",
       "    </tr>\n",
       "  </thead>\n",
       "  <tbody>\n",
       "    <tr>\n",
       "      <th>CASE_STATUS</th>\n",
       "      <td>1.000000</td>\n",
       "      <td>0.001048</td>\n",
       "      <td>0.003664</td>\n",
       "      <td>0.014024</td>\n",
       "      <td>0.013898</td>\n",
       "      <td>0.034516</td>\n",
       "    </tr>\n",
       "    <tr>\n",
       "      <th>CHANGE_PREVIOUS_EMPLOYMENT</th>\n",
       "      <td>0.001048</td>\n",
       "      <td>1.000000</td>\n",
       "      <td>0.308530</td>\n",
       "      <td>0.439359</td>\n",
       "      <td>0.537752</td>\n",
       "      <td>0.037051</td>\n",
       "    </tr>\n",
       "    <tr>\n",
       "      <th>NEW_CONCURRENT_EMPLOYMENT</th>\n",
       "      <td>0.003664</td>\n",
       "      <td>0.308530</td>\n",
       "      <td>1.000000</td>\n",
       "      <td>0.273928</td>\n",
       "      <td>0.333427</td>\n",
       "      <td>0.046455</td>\n",
       "    </tr>\n",
       "    <tr>\n",
       "      <th>CHANGE_EMPLOYER</th>\n",
       "      <td>0.014024</td>\n",
       "      <td>0.439359</td>\n",
       "      <td>0.273928</td>\n",
       "      <td>1.000000</td>\n",
       "      <td>0.540703</td>\n",
       "      <td>0.097013</td>\n",
       "    </tr>\n",
       "    <tr>\n",
       "      <th>AMENDED_PETITION</th>\n",
       "      <td>0.013898</td>\n",
       "      <td>0.537752</td>\n",
       "      <td>0.333427</td>\n",
       "      <td>0.540703</td>\n",
       "      <td>1.000000</td>\n",
       "      <td>0.048670</td>\n",
       "    </tr>\n",
       "    <tr>\n",
       "      <th>PREVAILING_WAGE</th>\n",
       "      <td>0.034516</td>\n",
       "      <td>0.037051</td>\n",
       "      <td>0.046455</td>\n",
       "      <td>0.097013</td>\n",
       "      <td>0.048670</td>\n",
       "      <td>1.000000</td>\n",
       "    </tr>\n",
       "  </tbody>\n",
       "</table>\n",
       "</div>"
      ],
      "text/plain": [
       "                            CASE_STATUS  CHANGE_PREVIOUS_EMPLOYMENT  \\\n",
       "CASE_STATUS                    1.000000                    0.001048   \n",
       "CHANGE_PREVIOUS_EMPLOYMENT     0.001048                    1.000000   \n",
       "NEW_CONCURRENT_EMPLOYMENT      0.003664                    0.308530   \n",
       "CHANGE_EMPLOYER                0.014024                    0.439359   \n",
       "AMENDED_PETITION               0.013898                    0.537752   \n",
       "PREVAILING_WAGE                0.034516                    0.037051   \n",
       "\n",
       "                            NEW_CONCURRENT_EMPLOYMENT  CHANGE_EMPLOYER  \\\n",
       "CASE_STATUS                                  0.003664         0.014024   \n",
       "CHANGE_PREVIOUS_EMPLOYMENT                   0.308530         0.439359   \n",
       "NEW_CONCURRENT_EMPLOYMENT                    1.000000         0.273928   \n",
       "CHANGE_EMPLOYER                              0.273928         1.000000   \n",
       "AMENDED_PETITION                             0.333427         0.540703   \n",
       "PREVAILING_WAGE                              0.046455         0.097013   \n",
       "\n",
       "                            AMENDED_PETITION  PREVAILING_WAGE  \n",
       "CASE_STATUS                         0.013898         0.034516  \n",
       "CHANGE_PREVIOUS_EMPLOYMENT          0.537752         0.037051  \n",
       "NEW_CONCURRENT_EMPLOYMENT           0.333427         0.046455  \n",
       "CHANGE_EMPLOYER                     0.540703         0.097013  \n",
       "AMENDED_PETITION                    1.000000         0.048670  \n",
       "PREVAILING_WAGE                     0.048670         1.000000  "
      ]
     },
     "execution_count": 55,
     "metadata": {},
     "output_type": "execute_result"
    }
   ],
   "source": [
    "corr_matrix"
   ]
  },
  {
   "cell_type": "code",
   "execution_count": 56,
   "metadata": {},
   "outputs": [],
   "source": [
    "# Imputing based on Count of frequency \n",
    "top_20_category = ['EMPLOYER_STATE','EMPLOYER_CITY','EMPLOYER_NAME']"
   ]
  },
  {
   "cell_type": "code",
   "execution_count": 57,
   "metadata": {},
   "outputs": [
    {
     "name": "stdout",
     "output_type": "stream",
     "text": [
      "['AZ', 'MO', 'MN', 'TN', 'CT', 'OH', 'FL', 'MD', 'NC', 'WA', 'GA', 'VA', 'MI', 'PA', 'MA', 'IL', 'NY', 'TX', 'NJ', 'CA']\n",
      "['PRINCETON', 'DALLAS', 'ROCKVILLE', 'ATLANTA', 'DURHAM', 'COLLEGE STATION', 'SUNNYVALE', 'HOUSTON', 'RICHARDSON', 'BOSTON', 'SEATTLE', 'IRVING', 'SANTA CLARA', 'SAN JOSE', 'PHILADELPHIA', 'EDISON', 'SAN FRANCISCO', 'MOUNTAIN VIEW', 'CHICAGO', 'NEW YORK']\n",
      "['INTEL CORPORATION', 'APPLE INC.', 'JPMORGAN CHASE & CO.', 'MICROSOFT CORPORATION', 'IBM INDIA PRIVATE LIMITED', 'L&T TECHNOLOGY SERVICES LIMITED', 'TECH MAHINDRA (AMERICAS),INC.', 'LARSEN & TOUBRO INFOTECH LIMITED', 'AMAZON.COM SERVICES, INC.', 'CAPGEMINI AMERICA INC', 'HCL AMERICA, INC.', 'IBM CORPORATION', 'WIPRO LIMITED', 'ERNST & YOUNG U.S. LLP', 'ACCENTURE LLP', 'TATA CONSULTANCY SERVICES LIMITED', 'COGNIZANT TECHNOLOGY SOLUTIONS US CORP', 'DELOITTE CONSULTING LLP', 'INFOSYS LIMITED', 'GOOGLE LLC']\n"
     ]
    }
   ],
   "source": [
    "for i in top_20_category:\n",
    "    top_20_category_list = final_df[final_df['CASE_STATUS']==0][i].value_counts().sort_values(ascending=False).head(20).index.tolist()\n",
    "    top_20_category_list = top_20_category_list[::-1]\n",
    "    print(top_20_category_list)\n",
    "    final_df[i] = final_df[i].apply( lambda x : 10 * (list(top_20_category_list).index(x) + 1) if x in list(top_20_category_list) else 0)"
   ]
  },
  {
   "cell_type": "code",
   "execution_count": 58,
   "metadata": {},
   "outputs": [
    {
     "data": {
      "text/plain": [
       "\"\\ndf_dummy = final_df[final_df['JOB_TITLE'].isin(['SOFTWARE ENGINEER', 'SOFTWARE DEVELOPER', 'SENIOR SYSTEMS ANALYST JC60',\\n                                           'SENIOR SOFTWARE ENGINEER', 'MANAGER JC50',\\n                                           'TECHNOLOGY LEAD - US - PRACTITIONER', 'ASSISTANT PROFESSOR',\\n                                           'PROGRAMMER ANALYST', 'JAVA DEVELOPER',\\n                                           'SENIOR SOFTWARE DEVELOPER'])][['JOB_TITLE','JOB_CLASS']].drop_duplicates()\\ndict(zip(df_dummy['JOB_TITLE'], df_dummy['JOB_CLASS']))\\n\""
      ]
     },
     "execution_count": 58,
     "metadata": {},
     "output_type": "execute_result"
    }
   ],
   "source": [
    "'''\n",
    "df_dummy = final_df[final_df['JOB_TITLE'].isin(['SOFTWARE ENGINEER', 'SOFTWARE DEVELOPER', 'SENIOR SYSTEMS ANALYST JC60',\n",
    "                                           'SENIOR SOFTWARE ENGINEER', 'MANAGER JC50',\n",
    "                                           'TECHNOLOGY LEAD - US - PRACTITIONER', 'ASSISTANT PROFESSOR',\n",
    "                                           'PROGRAMMER ANALYST', 'JAVA DEVELOPER',\n",
    "                                           'SENIOR SOFTWARE DEVELOPER'])][['JOB_TITLE','JOB_CLASS']].drop_duplicates()\n",
    "dict(zip(df_dummy['JOB_TITLE'], df_dummy['JOB_CLASS']))\n",
    "'''"
   ]
  },
  {
   "cell_type": "code",
   "execution_count": 59,
   "metadata": {},
   "outputs": [],
   "source": [
    "convert_to_majority = lambda x: 1 if int(x) == 1 else 0\n",
    "column_list_to_convert_to_majority = ['CONTINUED_EMPLOYMENT', 'CHANGE_PREVIOUS_EMPLOYMENT',\n",
    "                                      'NEW_CONCURRENT_EMPLOYMENT', 'CHANGE_EMPLOYER', 'AMENDED_PETITION']\n",
    "for i in column_list_to_convert_to_majority:\n",
    "    final_df[i] = final_df[i].apply(convert_to_majority)"
   ]
  },
  {
   "cell_type": "code",
   "execution_count": 60,
   "metadata": {
    "scrolled": true
   },
   "outputs": [
    {
     "data": {
      "text/html": [
       "<div>\n",
       "<style scoped>\n",
       "    .dataframe tbody tr th:only-of-type {\n",
       "        vertical-align: middle;\n",
       "    }\n",
       "\n",
       "    .dataframe tbody tr th {\n",
       "        vertical-align: top;\n",
       "    }\n",
       "\n",
       "    .dataframe thead th {\n",
       "        text-align: right;\n",
       "    }\n",
       "</style>\n",
       "<table border=\"1\" class=\"dataframe\">\n",
       "  <thead>\n",
       "    <tr style=\"text-align: right;\">\n",
       "      <th></th>\n",
       "      <th>CASE_STATUS</th>\n",
       "      <th>JOB_TITLE</th>\n",
       "      <th>SOC_TITLE</th>\n",
       "      <th>FULL_TIME_POSITION</th>\n",
       "      <th>CONTINUED_EMPLOYMENT</th>\n",
       "      <th>CHANGE_PREVIOUS_EMPLOYMENT</th>\n",
       "      <th>NEW_CONCURRENT_EMPLOYMENT</th>\n",
       "      <th>CHANGE_EMPLOYER</th>\n",
       "      <th>AMENDED_PETITION</th>\n",
       "      <th>EMPLOYER_NAME</th>\n",
       "      <th>EMPLOYER_CITY</th>\n",
       "      <th>EMPLOYER_STATE</th>\n",
       "      <th>PREVAILING_WAGE</th>\n",
       "      <th>H-1B_DEPENDENT</th>\n",
       "      <th>WILLFUL_VIOLATOR</th>\n",
       "      <th>SUPPORT_H1B</th>\n",
       "      <th>WAGE_CLASS</th>\n",
       "    </tr>\n",
       "  </thead>\n",
       "  <tbody>\n",
       "    <tr>\n",
       "      <th>465031</th>\n",
       "      <td>0</td>\n",
       "      <td>SENIOR ASSOCIATE, DATA SCIENTIST</td>\n",
       "      <td>COMPUTER OCCUPATIONS, ALL OTHER</td>\n",
       "      <td>1</td>\n",
       "      <td>0</td>\n",
       "      <td>0</td>\n",
       "      <td>0</td>\n",
       "      <td>0</td>\n",
       "      <td>0</td>\n",
       "      <td>0</td>\n",
       "      <td>20</td>\n",
       "      <td>180</td>\n",
       "      <td>74048.0</td>\n",
       "      <td>0</td>\n",
       "      <td>0</td>\n",
       "      <td>1</td>\n",
       "      <td>MEDIUM</td>\n",
       "    </tr>\n",
       "    <tr>\n",
       "      <th>364395</th>\n",
       "      <td>0</td>\n",
       "      <td>SR. SOFTWARE DEVELOPER</td>\n",
       "      <td>SOFTWARE DEVELOPERS, APPLICATIONS</td>\n",
       "      <td>1</td>\n",
       "      <td>0</td>\n",
       "      <td>1</td>\n",
       "      <td>0</td>\n",
       "      <td>0</td>\n",
       "      <td>0</td>\n",
       "      <td>0</td>\n",
       "      <td>0</td>\n",
       "      <td>200</td>\n",
       "      <td>108784.0</td>\n",
       "      <td>1</td>\n",
       "      <td>0</td>\n",
       "      <td>1</td>\n",
       "      <td>HIGH</td>\n",
       "    </tr>\n",
       "    <tr>\n",
       "      <th>3317</th>\n",
       "      <td>0</td>\n",
       "      <td>DIRECTOR BUSINESS DEVELOPMENT</td>\n",
       "      <td>MARKETING MANAGERS</td>\n",
       "      <td>1</td>\n",
       "      <td>0</td>\n",
       "      <td>0</td>\n",
       "      <td>0</td>\n",
       "      <td>1</td>\n",
       "      <td>0</td>\n",
       "      <td>0</td>\n",
       "      <td>0</td>\n",
       "      <td>150</td>\n",
       "      <td>113859.0</td>\n",
       "      <td>1</td>\n",
       "      <td>0</td>\n",
       "      <td>1</td>\n",
       "      <td>HIGH</td>\n",
       "    </tr>\n",
       "    <tr>\n",
       "      <th>124799</th>\n",
       "      <td>0</td>\n",
       "      <td>FUNCTIONAL CONSULTANT</td>\n",
       "      <td>COMPUTER SYSTEMS ANALYSTS</td>\n",
       "      <td>1</td>\n",
       "      <td>0</td>\n",
       "      <td>1</td>\n",
       "      <td>0</td>\n",
       "      <td>0</td>\n",
       "      <td>0</td>\n",
       "      <td>160</td>\n",
       "      <td>30</td>\n",
       "      <td>80</td>\n",
       "      <td>69701.0</td>\n",
       "      <td>1</td>\n",
       "      <td>0</td>\n",
       "      <td>1</td>\n",
       "      <td>LOW</td>\n",
       "    </tr>\n",
       "    <tr>\n",
       "      <th>36803</th>\n",
       "      <td>0</td>\n",
       "      <td>CONSULTANT</td>\n",
       "      <td>MANAGEMENT ANALYSTS</td>\n",
       "      <td>1</td>\n",
       "      <td>0</td>\n",
       "      <td>1</td>\n",
       "      <td>0</td>\n",
       "      <td>1</td>\n",
       "      <td>0</td>\n",
       "      <td>180</td>\n",
       "      <td>150</td>\n",
       "      <td>140</td>\n",
       "      <td>46904.0</td>\n",
       "      <td>0</td>\n",
       "      <td>0</td>\n",
       "      <td>1</td>\n",
       "      <td>VERY_LOW</td>\n",
       "    </tr>\n",
       "  </tbody>\n",
       "</table>\n",
       "</div>"
      ],
      "text/plain": [
       "        CASE_STATUS                         JOB_TITLE  \\\n",
       "465031            0  SENIOR ASSOCIATE, DATA SCIENTIST   \n",
       "364395            0            SR. SOFTWARE DEVELOPER   \n",
       "3317              0     DIRECTOR BUSINESS DEVELOPMENT   \n",
       "124799            0             FUNCTIONAL CONSULTANT   \n",
       "36803             0                        CONSULTANT   \n",
       "\n",
       "                                SOC_TITLE  FULL_TIME_POSITION  \\\n",
       "465031    COMPUTER OCCUPATIONS, ALL OTHER                   1   \n",
       "364395  SOFTWARE DEVELOPERS, APPLICATIONS                   1   \n",
       "3317                   MARKETING MANAGERS                   1   \n",
       "124799          COMPUTER SYSTEMS ANALYSTS                   1   \n",
       "36803                 MANAGEMENT ANALYSTS                   1   \n",
       "\n",
       "        CONTINUED_EMPLOYMENT  CHANGE_PREVIOUS_EMPLOYMENT  \\\n",
       "465031                     0                           0   \n",
       "364395                     0                           1   \n",
       "3317                       0                           0   \n",
       "124799                     0                           1   \n",
       "36803                      0                           1   \n",
       "\n",
       "        NEW_CONCURRENT_EMPLOYMENT  CHANGE_EMPLOYER  AMENDED_PETITION  \\\n",
       "465031                          0                0                 0   \n",
       "364395                          0                0                 0   \n",
       "3317                            0                1                 0   \n",
       "124799                          0                0                 0   \n",
       "36803                           0                1                 0   \n",
       "\n",
       "        EMPLOYER_NAME  EMPLOYER_CITY  EMPLOYER_STATE  PREVAILING_WAGE  \\\n",
       "465031              0             20             180          74048.0   \n",
       "364395              0              0             200         108784.0   \n",
       "3317                0              0             150         113859.0   \n",
       "124799            160             30              80          69701.0   \n",
       "36803             180            150             140          46904.0   \n",
       "\n",
       "        H-1B_DEPENDENT  WILLFUL_VIOLATOR  SUPPORT_H1B WAGE_CLASS  \n",
       "465031               0                 0            1     MEDIUM  \n",
       "364395               1                 0            1       HIGH  \n",
       "3317                 1                 0            1       HIGH  \n",
       "124799               1                 0            1        LOW  \n",
       "36803                0                 0            1   VERY_LOW  "
      ]
     },
     "execution_count": 60,
     "metadata": {},
     "output_type": "execute_result"
    }
   ],
   "source": [
    "final_df.head()"
   ]
  },
  {
   "cell_type": "code",
   "execution_count": 61,
   "metadata": {},
   "outputs": [],
   "source": [
    "def convert_to_maximum_ratio(final_df, column_name, new_column_name):\n",
    "    positive = final_df[final_df['CASE_STATUS'] == 0]['JOB_TITLE'].value_counts()\n",
    "    total = final_df['JOB_TITLE'].value_counts()\n",
    "    ratio = positive/total\n",
    "    ratio.fillna(-100,inplace=True)\n",
    "    df_c = ratio.apply(h1b_acceptance)\n",
    "    final_df[new_column_name] = final_df[column_name].map(df_c)\n",
    "    print('column transformation completed for {}'.format(column_name))"
   ]
  },
  {
   "cell_type": "code",
   "execution_count": 62,
   "metadata": {},
   "outputs": [
    {
     "name": "stdout",
     "output_type": "stream",
     "text": [
      "column transformation completed for JOB_TITLE\n"
     ]
    }
   ],
   "source": [
    "convert_to_maximum_ratio(final_df, 'JOB_TITLE', 'JOB_CLASS')"
   ]
  },
  {
   "cell_type": "code",
   "execution_count": 63,
   "metadata": {},
   "outputs": [
    {
     "name": "stdout",
     "output_type": "stream",
     "text": [
      "column transformation completed for SOC_TITLE\n"
     ]
    }
   ],
   "source": [
    "convert_to_maximum_ratio(final_df, 'SOC_TITLE', 'SOC_CLASS')"
   ]
  },
  {
   "cell_type": "code",
   "execution_count": 64,
   "metadata": {},
   "outputs": [
    {
     "data": {
      "text/html": [
       "<div>\n",
       "<style scoped>\n",
       "    .dataframe tbody tr th:only-of-type {\n",
       "        vertical-align: middle;\n",
       "    }\n",
       "\n",
       "    .dataframe tbody tr th {\n",
       "        vertical-align: top;\n",
       "    }\n",
       "\n",
       "    .dataframe thead th {\n",
       "        text-align: right;\n",
       "    }\n",
       "</style>\n",
       "<table border=\"1\" class=\"dataframe\">\n",
       "  <thead>\n",
       "    <tr style=\"text-align: right;\">\n",
       "      <th></th>\n",
       "      <th>CASE_STATUS</th>\n",
       "      <th>JOB_TITLE</th>\n",
       "      <th>SOC_TITLE</th>\n",
       "      <th>FULL_TIME_POSITION</th>\n",
       "      <th>CONTINUED_EMPLOYMENT</th>\n",
       "      <th>CHANGE_PREVIOUS_EMPLOYMENT</th>\n",
       "      <th>NEW_CONCURRENT_EMPLOYMENT</th>\n",
       "      <th>CHANGE_EMPLOYER</th>\n",
       "      <th>AMENDED_PETITION</th>\n",
       "      <th>EMPLOYER_NAME</th>\n",
       "      <th>EMPLOYER_CITY</th>\n",
       "      <th>EMPLOYER_STATE</th>\n",
       "      <th>PREVAILING_WAGE</th>\n",
       "      <th>H-1B_DEPENDENT</th>\n",
       "      <th>WILLFUL_VIOLATOR</th>\n",
       "      <th>SUPPORT_H1B</th>\n",
       "      <th>WAGE_CLASS</th>\n",
       "      <th>JOB_CLASS</th>\n",
       "      <th>SOC_CLASS</th>\n",
       "    </tr>\n",
       "  </thead>\n",
       "  <tbody>\n",
       "    <tr>\n",
       "      <th>465031</th>\n",
       "      <td>0</td>\n",
       "      <td>SENIOR ASSOCIATE, DATA SCIENTIST</td>\n",
       "      <td>COMPUTER OCCUPATIONS, ALL OTHER</td>\n",
       "      <td>1</td>\n",
       "      <td>0</td>\n",
       "      <td>0</td>\n",
       "      <td>0</td>\n",
       "      <td>0</td>\n",
       "      <td>0</td>\n",
       "      <td>0</td>\n",
       "      <td>20</td>\n",
       "      <td>180</td>\n",
       "      <td>74048.0</td>\n",
       "      <td>0</td>\n",
       "      <td>0</td>\n",
       "      <td>1</td>\n",
       "      <td>MEDIUM</td>\n",
       "      <td>VERY_HIGH</td>\n",
       "      <td>VERY_HIGH</td>\n",
       "    </tr>\n",
       "    <tr>\n",
       "      <th>364395</th>\n",
       "      <td>0</td>\n",
       "      <td>SR. SOFTWARE DEVELOPER</td>\n",
       "      <td>SOFTWARE DEVELOPERS, APPLICATIONS</td>\n",
       "      <td>1</td>\n",
       "      <td>0</td>\n",
       "      <td>1</td>\n",
       "      <td>0</td>\n",
       "      <td>0</td>\n",
       "      <td>0</td>\n",
       "      <td>0</td>\n",
       "      <td>0</td>\n",
       "      <td>200</td>\n",
       "      <td>108784.0</td>\n",
       "      <td>1</td>\n",
       "      <td>0</td>\n",
       "      <td>1</td>\n",
       "      <td>HIGH</td>\n",
       "      <td>MEDIUM</td>\n",
       "      <td>MEDIUM</td>\n",
       "    </tr>\n",
       "    <tr>\n",
       "      <th>3317</th>\n",
       "      <td>0</td>\n",
       "      <td>DIRECTOR BUSINESS DEVELOPMENT</td>\n",
       "      <td>MARKETING MANAGERS</td>\n",
       "      <td>1</td>\n",
       "      <td>0</td>\n",
       "      <td>0</td>\n",
       "      <td>0</td>\n",
       "      <td>1</td>\n",
       "      <td>0</td>\n",
       "      <td>0</td>\n",
       "      <td>0</td>\n",
       "      <td>150</td>\n",
       "      <td>113859.0</td>\n",
       "      <td>1</td>\n",
       "      <td>0</td>\n",
       "      <td>1</td>\n",
       "      <td>HIGH</td>\n",
       "      <td>VERY_HIGH</td>\n",
       "      <td>NOT PRESENT</td>\n",
       "    </tr>\n",
       "    <tr>\n",
       "      <th>124799</th>\n",
       "      <td>0</td>\n",
       "      <td>FUNCTIONAL CONSULTANT</td>\n",
       "      <td>COMPUTER SYSTEMS ANALYSTS</td>\n",
       "      <td>1</td>\n",
       "      <td>0</td>\n",
       "      <td>1</td>\n",
       "      <td>0</td>\n",
       "      <td>0</td>\n",
       "      <td>0</td>\n",
       "      <td>160</td>\n",
       "      <td>30</td>\n",
       "      <td>80</td>\n",
       "      <td>69701.0</td>\n",
       "      <td>1</td>\n",
       "      <td>0</td>\n",
       "      <td>1</td>\n",
       "      <td>LOW</td>\n",
       "      <td>MEDIUM</td>\n",
       "      <td>MEDIUM</td>\n",
       "    </tr>\n",
       "    <tr>\n",
       "      <th>36803</th>\n",
       "      <td>0</td>\n",
       "      <td>CONSULTANT</td>\n",
       "      <td>MANAGEMENT ANALYSTS</td>\n",
       "      <td>1</td>\n",
       "      <td>0</td>\n",
       "      <td>1</td>\n",
       "      <td>0</td>\n",
       "      <td>1</td>\n",
       "      <td>0</td>\n",
       "      <td>180</td>\n",
       "      <td>150</td>\n",
       "      <td>140</td>\n",
       "      <td>46904.0</td>\n",
       "      <td>0</td>\n",
       "      <td>0</td>\n",
       "      <td>1</td>\n",
       "      <td>VERY_LOW</td>\n",
       "      <td>HIGH</td>\n",
       "      <td>HIGH</td>\n",
       "    </tr>\n",
       "  </tbody>\n",
       "</table>\n",
       "</div>"
      ],
      "text/plain": [
       "        CASE_STATUS                         JOB_TITLE  \\\n",
       "465031            0  SENIOR ASSOCIATE, DATA SCIENTIST   \n",
       "364395            0            SR. SOFTWARE DEVELOPER   \n",
       "3317              0     DIRECTOR BUSINESS DEVELOPMENT   \n",
       "124799            0             FUNCTIONAL CONSULTANT   \n",
       "36803             0                        CONSULTANT   \n",
       "\n",
       "                                SOC_TITLE  FULL_TIME_POSITION  \\\n",
       "465031    COMPUTER OCCUPATIONS, ALL OTHER                   1   \n",
       "364395  SOFTWARE DEVELOPERS, APPLICATIONS                   1   \n",
       "3317                   MARKETING MANAGERS                   1   \n",
       "124799          COMPUTER SYSTEMS ANALYSTS                   1   \n",
       "36803                 MANAGEMENT ANALYSTS                   1   \n",
       "\n",
       "        CONTINUED_EMPLOYMENT  CHANGE_PREVIOUS_EMPLOYMENT  \\\n",
       "465031                     0                           0   \n",
       "364395                     0                           1   \n",
       "3317                       0                           0   \n",
       "124799                     0                           1   \n",
       "36803                      0                           1   \n",
       "\n",
       "        NEW_CONCURRENT_EMPLOYMENT  CHANGE_EMPLOYER  AMENDED_PETITION  \\\n",
       "465031                          0                0                 0   \n",
       "364395                          0                0                 0   \n",
       "3317                            0                1                 0   \n",
       "124799                          0                0                 0   \n",
       "36803                           0                1                 0   \n",
       "\n",
       "        EMPLOYER_NAME  EMPLOYER_CITY  EMPLOYER_STATE  PREVAILING_WAGE  \\\n",
       "465031              0             20             180          74048.0   \n",
       "364395              0              0             200         108784.0   \n",
       "3317                0              0             150         113859.0   \n",
       "124799            160             30              80          69701.0   \n",
       "36803             180            150             140          46904.0   \n",
       "\n",
       "        H-1B_DEPENDENT  WILLFUL_VIOLATOR  SUPPORT_H1B WAGE_CLASS  JOB_CLASS  \\\n",
       "465031               0                 0            1     MEDIUM  VERY_HIGH   \n",
       "364395               1                 0            1       HIGH     MEDIUM   \n",
       "3317                 1                 0            1       HIGH  VERY_HIGH   \n",
       "124799               1                 0            1        LOW     MEDIUM   \n",
       "36803                0                 0            1   VERY_LOW       HIGH   \n",
       "\n",
       "          SOC_CLASS  \n",
       "465031    VERY_HIGH  \n",
       "364395       MEDIUM  \n",
       "3317    NOT PRESENT  \n",
       "124799       MEDIUM  \n",
       "36803          HIGH  "
      ]
     },
     "execution_count": 64,
     "metadata": {},
     "output_type": "execute_result"
    }
   ],
   "source": [
    "final_df.head()"
   ]
  },
  {
   "cell_type": "code",
   "execution_count": 65,
   "metadata": {},
   "outputs": [
    {
     "data": {
      "text/plain": [
       "Index(['CASE_STATUS', 'JOB_TITLE', 'SOC_TITLE', 'FULL_TIME_POSITION',\n",
       "       'CONTINUED_EMPLOYMENT', 'CHANGE_PREVIOUS_EMPLOYMENT',\n",
       "       'NEW_CONCURRENT_EMPLOYMENT', 'CHANGE_EMPLOYER', 'AMENDED_PETITION',\n",
       "       'EMPLOYER_NAME', 'EMPLOYER_CITY', 'EMPLOYER_STATE', 'PREVAILING_WAGE',\n",
       "       'H-1B_DEPENDENT', 'WILLFUL_VIOLATOR', 'SUPPORT_H1B', 'WAGE_CLASS',\n",
       "       'JOB_CLASS', 'SOC_CLASS'],\n",
       "      dtype='object')"
      ]
     },
     "execution_count": 65,
     "metadata": {},
     "output_type": "execute_result"
    }
   ],
   "source": [
    "final_df.columns"
   ]
  },
  {
   "cell_type": "code",
   "execution_count": 66,
   "metadata": {},
   "outputs": [],
   "source": [
    "final_df = final_df[['CASE_STATUS', 'FULL_TIME_POSITION', 'CONTINUED_EMPLOYMENT', 'CHANGE_PREVIOUS_EMPLOYMENT','NEW_CONCURRENT_EMPLOYMENT', 'CHANGE_EMPLOYER', 'AMENDED_PETITION','EMPLOYER_NAME', 'EMPLOYER_CITY', 'EMPLOYER_STATE','H-1B_DEPENDENT', 'WILLFUL_VIOLATOR', 'SUPPORT_H1B', 'WAGE_CLASS','JOB_CLASS', 'SOC_CLASS']]"
   ]
  },
  {
   "cell_type": "code",
   "execution_count": 67,
   "metadata": {},
   "outputs": [
    {
     "data": {
      "text/html": [
       "<div>\n",
       "<style scoped>\n",
       "    .dataframe tbody tr th:only-of-type {\n",
       "        vertical-align: middle;\n",
       "    }\n",
       "\n",
       "    .dataframe tbody tr th {\n",
       "        vertical-align: top;\n",
       "    }\n",
       "\n",
       "    .dataframe thead th {\n",
       "        text-align: right;\n",
       "    }\n",
       "</style>\n",
       "<table border=\"1\" class=\"dataframe\">\n",
       "  <thead>\n",
       "    <tr style=\"text-align: right;\">\n",
       "      <th></th>\n",
       "      <th>CASE_STATUS</th>\n",
       "      <th>FULL_TIME_POSITION</th>\n",
       "      <th>CONTINUED_EMPLOYMENT</th>\n",
       "      <th>CHANGE_PREVIOUS_EMPLOYMENT</th>\n",
       "      <th>NEW_CONCURRENT_EMPLOYMENT</th>\n",
       "      <th>CHANGE_EMPLOYER</th>\n",
       "      <th>AMENDED_PETITION</th>\n",
       "      <th>EMPLOYER_NAME</th>\n",
       "      <th>EMPLOYER_CITY</th>\n",
       "      <th>EMPLOYER_STATE</th>\n",
       "      <th>H-1B_DEPENDENT</th>\n",
       "      <th>WILLFUL_VIOLATOR</th>\n",
       "      <th>SUPPORT_H1B</th>\n",
       "      <th>WAGE_CLASS</th>\n",
       "      <th>JOB_CLASS</th>\n",
       "      <th>SOC_CLASS</th>\n",
       "    </tr>\n",
       "  </thead>\n",
       "  <tbody>\n",
       "    <tr>\n",
       "      <th>465031</th>\n",
       "      <td>0</td>\n",
       "      <td>1</td>\n",
       "      <td>0</td>\n",
       "      <td>0</td>\n",
       "      <td>0</td>\n",
       "      <td>0</td>\n",
       "      <td>0</td>\n",
       "      <td>0</td>\n",
       "      <td>20</td>\n",
       "      <td>180</td>\n",
       "      <td>0</td>\n",
       "      <td>0</td>\n",
       "      <td>1</td>\n",
       "      <td>MEDIUM</td>\n",
       "      <td>VERY_HIGH</td>\n",
       "      <td>VERY_HIGH</td>\n",
       "    </tr>\n",
       "    <tr>\n",
       "      <th>364395</th>\n",
       "      <td>0</td>\n",
       "      <td>1</td>\n",
       "      <td>0</td>\n",
       "      <td>1</td>\n",
       "      <td>0</td>\n",
       "      <td>0</td>\n",
       "      <td>0</td>\n",
       "      <td>0</td>\n",
       "      <td>0</td>\n",
       "      <td>200</td>\n",
       "      <td>1</td>\n",
       "      <td>0</td>\n",
       "      <td>1</td>\n",
       "      <td>HIGH</td>\n",
       "      <td>MEDIUM</td>\n",
       "      <td>MEDIUM</td>\n",
       "    </tr>\n",
       "    <tr>\n",
       "      <th>3317</th>\n",
       "      <td>0</td>\n",
       "      <td>1</td>\n",
       "      <td>0</td>\n",
       "      <td>0</td>\n",
       "      <td>0</td>\n",
       "      <td>1</td>\n",
       "      <td>0</td>\n",
       "      <td>0</td>\n",
       "      <td>0</td>\n",
       "      <td>150</td>\n",
       "      <td>1</td>\n",
       "      <td>0</td>\n",
       "      <td>1</td>\n",
       "      <td>HIGH</td>\n",
       "      <td>VERY_HIGH</td>\n",
       "      <td>NOT PRESENT</td>\n",
       "    </tr>\n",
       "    <tr>\n",
       "      <th>124799</th>\n",
       "      <td>0</td>\n",
       "      <td>1</td>\n",
       "      <td>0</td>\n",
       "      <td>1</td>\n",
       "      <td>0</td>\n",
       "      <td>0</td>\n",
       "      <td>0</td>\n",
       "      <td>160</td>\n",
       "      <td>30</td>\n",
       "      <td>80</td>\n",
       "      <td>1</td>\n",
       "      <td>0</td>\n",
       "      <td>1</td>\n",
       "      <td>LOW</td>\n",
       "      <td>MEDIUM</td>\n",
       "      <td>MEDIUM</td>\n",
       "    </tr>\n",
       "    <tr>\n",
       "      <th>36803</th>\n",
       "      <td>0</td>\n",
       "      <td>1</td>\n",
       "      <td>0</td>\n",
       "      <td>1</td>\n",
       "      <td>0</td>\n",
       "      <td>1</td>\n",
       "      <td>0</td>\n",
       "      <td>180</td>\n",
       "      <td>150</td>\n",
       "      <td>140</td>\n",
       "      <td>0</td>\n",
       "      <td>0</td>\n",
       "      <td>1</td>\n",
       "      <td>VERY_LOW</td>\n",
       "      <td>HIGH</td>\n",
       "      <td>HIGH</td>\n",
       "    </tr>\n",
       "  </tbody>\n",
       "</table>\n",
       "</div>"
      ],
      "text/plain": [
       "        CASE_STATUS  FULL_TIME_POSITION  CONTINUED_EMPLOYMENT  \\\n",
       "465031            0                   1                     0   \n",
       "364395            0                   1                     0   \n",
       "3317              0                   1                     0   \n",
       "124799            0                   1                     0   \n",
       "36803             0                   1                     0   \n",
       "\n",
       "        CHANGE_PREVIOUS_EMPLOYMENT  NEW_CONCURRENT_EMPLOYMENT  \\\n",
       "465031                           0                          0   \n",
       "364395                           1                          0   \n",
       "3317                             0                          0   \n",
       "124799                           1                          0   \n",
       "36803                            1                          0   \n",
       "\n",
       "        CHANGE_EMPLOYER  AMENDED_PETITION  EMPLOYER_NAME  EMPLOYER_CITY  \\\n",
       "465031                0                 0              0             20   \n",
       "364395                0                 0              0              0   \n",
       "3317                  1                 0              0              0   \n",
       "124799                0                 0            160             30   \n",
       "36803                 1                 0            180            150   \n",
       "\n",
       "        EMPLOYER_STATE  H-1B_DEPENDENT  WILLFUL_VIOLATOR  SUPPORT_H1B  \\\n",
       "465031             180               0                 0            1   \n",
       "364395             200               1                 0            1   \n",
       "3317               150               1                 0            1   \n",
       "124799              80               1                 0            1   \n",
       "36803              140               0                 0            1   \n",
       "\n",
       "       WAGE_CLASS  JOB_CLASS    SOC_CLASS  \n",
       "465031     MEDIUM  VERY_HIGH    VERY_HIGH  \n",
       "364395       HIGH     MEDIUM       MEDIUM  \n",
       "3317         HIGH  VERY_HIGH  NOT PRESENT  \n",
       "124799        LOW     MEDIUM       MEDIUM  \n",
       "36803    VERY_LOW       HIGH         HIGH  "
      ]
     },
     "execution_count": 67,
     "metadata": {},
     "output_type": "execute_result"
    }
   ],
   "source": [
    "final_df.head()"
   ]
  },
  {
   "cell_type": "code",
   "execution_count": 68,
   "metadata": {},
   "outputs": [
    {
     "data": {
      "text/plain": [
       "(47659, 16)"
      ]
     },
     "execution_count": 68,
     "metadata": {},
     "output_type": "execute_result"
    }
   ],
   "source": [
    "final_df.shape"
   ]
  },
  {
   "cell_type": "code",
   "execution_count": 69,
   "metadata": {},
   "outputs": [
    {
     "data": {
      "text/html": [
       "<div>\n",
       "<style scoped>\n",
       "    .dataframe tbody tr th:only-of-type {\n",
       "        vertical-align: middle;\n",
       "    }\n",
       "\n",
       "    .dataframe tbody tr th {\n",
       "        vertical-align: top;\n",
       "    }\n",
       "\n",
       "    .dataframe thead th {\n",
       "        text-align: right;\n",
       "    }\n",
       "</style>\n",
       "<table border=\"1\" class=\"dataframe\">\n",
       "  <thead>\n",
       "    <tr style=\"text-align: right;\">\n",
       "      <th></th>\n",
       "      <th>CASE_STATUS</th>\n",
       "      <th>FULL_TIME_POSITION</th>\n",
       "      <th>CONTINUED_EMPLOYMENT</th>\n",
       "      <th>CHANGE_PREVIOUS_EMPLOYMENT</th>\n",
       "      <th>NEW_CONCURRENT_EMPLOYMENT</th>\n",
       "      <th>CHANGE_EMPLOYER</th>\n",
       "      <th>AMENDED_PETITION</th>\n",
       "      <th>EMPLOYER_NAME</th>\n",
       "      <th>EMPLOYER_CITY</th>\n",
       "      <th>EMPLOYER_STATE</th>\n",
       "      <th>...</th>\n",
       "      <th>JOB_CLASS_LOW</th>\n",
       "      <th>JOB_CLASS_MEDIUM</th>\n",
       "      <th>JOB_CLASS_NOT PRESENT</th>\n",
       "      <th>JOB_CLASS_VERY_HIGH</th>\n",
       "      <th>JOB_CLASS_VERY_LOW</th>\n",
       "      <th>SOC_CLASS_LOW</th>\n",
       "      <th>SOC_CLASS_MEDIUM</th>\n",
       "      <th>SOC_CLASS_NOT PRESENT</th>\n",
       "      <th>SOC_CLASS_VERY_HIGH</th>\n",
       "      <th>SOC_CLASS_VERY_LOW</th>\n",
       "    </tr>\n",
       "  </thead>\n",
       "  <tbody>\n",
       "    <tr>\n",
       "      <th>465031</th>\n",
       "      <td>0</td>\n",
       "      <td>1</td>\n",
       "      <td>0</td>\n",
       "      <td>0</td>\n",
       "      <td>0</td>\n",
       "      <td>0</td>\n",
       "      <td>0</td>\n",
       "      <td>0</td>\n",
       "      <td>20</td>\n",
       "      <td>180</td>\n",
       "      <td>...</td>\n",
       "      <td>0</td>\n",
       "      <td>0</td>\n",
       "      <td>0</td>\n",
       "      <td>1</td>\n",
       "      <td>0</td>\n",
       "      <td>0</td>\n",
       "      <td>0</td>\n",
       "      <td>0</td>\n",
       "      <td>1</td>\n",
       "      <td>0</td>\n",
       "    </tr>\n",
       "    <tr>\n",
       "      <th>364395</th>\n",
       "      <td>0</td>\n",
       "      <td>1</td>\n",
       "      <td>0</td>\n",
       "      <td>1</td>\n",
       "      <td>0</td>\n",
       "      <td>0</td>\n",
       "      <td>0</td>\n",
       "      <td>0</td>\n",
       "      <td>0</td>\n",
       "      <td>200</td>\n",
       "      <td>...</td>\n",
       "      <td>0</td>\n",
       "      <td>1</td>\n",
       "      <td>0</td>\n",
       "      <td>0</td>\n",
       "      <td>0</td>\n",
       "      <td>0</td>\n",
       "      <td>1</td>\n",
       "      <td>0</td>\n",
       "      <td>0</td>\n",
       "      <td>0</td>\n",
       "    </tr>\n",
       "    <tr>\n",
       "      <th>3317</th>\n",
       "      <td>0</td>\n",
       "      <td>1</td>\n",
       "      <td>0</td>\n",
       "      <td>0</td>\n",
       "      <td>0</td>\n",
       "      <td>1</td>\n",
       "      <td>0</td>\n",
       "      <td>0</td>\n",
       "      <td>0</td>\n",
       "      <td>150</td>\n",
       "      <td>...</td>\n",
       "      <td>0</td>\n",
       "      <td>0</td>\n",
       "      <td>0</td>\n",
       "      <td>1</td>\n",
       "      <td>0</td>\n",
       "      <td>0</td>\n",
       "      <td>0</td>\n",
       "      <td>1</td>\n",
       "      <td>0</td>\n",
       "      <td>0</td>\n",
       "    </tr>\n",
       "    <tr>\n",
       "      <th>124799</th>\n",
       "      <td>0</td>\n",
       "      <td>1</td>\n",
       "      <td>0</td>\n",
       "      <td>1</td>\n",
       "      <td>0</td>\n",
       "      <td>0</td>\n",
       "      <td>0</td>\n",
       "      <td>160</td>\n",
       "      <td>30</td>\n",
       "      <td>80</td>\n",
       "      <td>...</td>\n",
       "      <td>0</td>\n",
       "      <td>1</td>\n",
       "      <td>0</td>\n",
       "      <td>0</td>\n",
       "      <td>0</td>\n",
       "      <td>0</td>\n",
       "      <td>1</td>\n",
       "      <td>0</td>\n",
       "      <td>0</td>\n",
       "      <td>0</td>\n",
       "    </tr>\n",
       "    <tr>\n",
       "      <th>36803</th>\n",
       "      <td>0</td>\n",
       "      <td>1</td>\n",
       "      <td>0</td>\n",
       "      <td>1</td>\n",
       "      <td>0</td>\n",
       "      <td>1</td>\n",
       "      <td>0</td>\n",
       "      <td>180</td>\n",
       "      <td>150</td>\n",
       "      <td>140</td>\n",
       "      <td>...</td>\n",
       "      <td>0</td>\n",
       "      <td>0</td>\n",
       "      <td>0</td>\n",
       "      <td>0</td>\n",
       "      <td>0</td>\n",
       "      <td>0</td>\n",
       "      <td>0</td>\n",
       "      <td>0</td>\n",
       "      <td>0</td>\n",
       "      <td>0</td>\n",
       "    </tr>\n",
       "  </tbody>\n",
       "</table>\n",
       "<p>5 rows × 26 columns</p>\n",
       "</div>"
      ],
      "text/plain": [
       "        CASE_STATUS  FULL_TIME_POSITION  CONTINUED_EMPLOYMENT  \\\n",
       "465031            0                   1                     0   \n",
       "364395            0                   1                     0   \n",
       "3317              0                   1                     0   \n",
       "124799            0                   1                     0   \n",
       "36803             0                   1                     0   \n",
       "\n",
       "        CHANGE_PREVIOUS_EMPLOYMENT  NEW_CONCURRENT_EMPLOYMENT  \\\n",
       "465031                           0                          0   \n",
       "364395                           1                          0   \n",
       "3317                             0                          0   \n",
       "124799                           1                          0   \n",
       "36803                            1                          0   \n",
       "\n",
       "        CHANGE_EMPLOYER  AMENDED_PETITION  EMPLOYER_NAME  EMPLOYER_CITY  \\\n",
       "465031                0                 0              0             20   \n",
       "364395                0                 0              0              0   \n",
       "3317                  1                 0              0              0   \n",
       "124799                0                 0            160             30   \n",
       "36803                 1                 0            180            150   \n",
       "\n",
       "        EMPLOYER_STATE  ...  JOB_CLASS_LOW  JOB_CLASS_MEDIUM  \\\n",
       "465031             180  ...              0                 0   \n",
       "364395             200  ...              0                 1   \n",
       "3317               150  ...              0                 0   \n",
       "124799              80  ...              0                 1   \n",
       "36803              140  ...              0                 0   \n",
       "\n",
       "        JOB_CLASS_NOT PRESENT  JOB_CLASS_VERY_HIGH  JOB_CLASS_VERY_LOW  \\\n",
       "465031                      0                    1                   0   \n",
       "364395                      0                    0                   0   \n",
       "3317                        0                    1                   0   \n",
       "124799                      0                    0                   0   \n",
       "36803                       0                    0                   0   \n",
       "\n",
       "        SOC_CLASS_LOW  SOC_CLASS_MEDIUM  SOC_CLASS_NOT PRESENT  \\\n",
       "465031              0                 0                      0   \n",
       "364395              0                 1                      0   \n",
       "3317                0                 0                      1   \n",
       "124799              0                 1                      0   \n",
       "36803               0                 0                      0   \n",
       "\n",
       "        SOC_CLASS_VERY_HIGH  SOC_CLASS_VERY_LOW  \n",
       "465031                    1                   0  \n",
       "364395                    0                   0  \n",
       "3317                      0                   0  \n",
       "124799                    0                   0  \n",
       "36803                     0                   0  \n",
       "\n",
       "[5 rows x 26 columns]"
      ]
     },
     "execution_count": 69,
     "metadata": {},
     "output_type": "execute_result"
    }
   ],
   "source": [
    "final_df_cleaned = pd.get_dummies(final_df, columns=['WAGE_CLASS','JOB_CLASS', 'SOC_CLASS'], drop_first=True)\n",
    "final_df_cleaned.head()"
   ]
  },
  {
   "cell_type": "code",
   "execution_count": 70,
   "metadata": {},
   "outputs": [],
   "source": [
    "X = final_df_cleaned.iloc[:,1:]\n",
    "Y = final_df_cleaned.iloc[:,0]"
   ]
  },
  {
   "cell_type": "code",
   "execution_count": 71,
   "metadata": {},
   "outputs": [
    {
     "data": {
      "text/plain": [
       "Index(['CASE_STATUS', 'FULL_TIME_POSITION', 'CONTINUED_EMPLOYMENT',\n",
       "       'CHANGE_PREVIOUS_EMPLOYMENT', 'NEW_CONCURRENT_EMPLOYMENT',\n",
       "       'CHANGE_EMPLOYER', 'AMENDED_PETITION', 'EMPLOYER_NAME', 'EMPLOYER_CITY',\n",
       "       'EMPLOYER_STATE', 'H-1B_DEPENDENT', 'WILLFUL_VIOLATOR', 'SUPPORT_H1B',\n",
       "       'WAGE_CLASS_LOW', 'WAGE_CLASS_MEDIUM', 'WAGE_CLASS_VERY_LOW',\n",
       "       'JOB_CLASS_LOW', 'JOB_CLASS_MEDIUM', 'JOB_CLASS_NOT PRESENT',\n",
       "       'JOB_CLASS_VERY_HIGH', 'JOB_CLASS_VERY_LOW', 'SOC_CLASS_LOW',\n",
       "       'SOC_CLASS_MEDIUM', 'SOC_CLASS_NOT PRESENT', 'SOC_CLASS_VERY_HIGH',\n",
       "       'SOC_CLASS_VERY_LOW'],\n",
       "      dtype='object')"
      ]
     },
     "execution_count": 71,
     "metadata": {},
     "output_type": "execute_result"
    }
   ],
   "source": [
    "final_df_cleaned.columns"
   ]
  },
  {
   "cell_type": "code",
   "execution_count": 72,
   "metadata": {},
   "outputs": [],
   "source": [
    "from sklearn.feature_selection import SelectKBest\n",
    "from sklearn.feature_selection import chi2"
   ]
  },
  {
   "cell_type": "code",
   "execution_count": 73,
   "metadata": {},
   "outputs": [],
   "source": [
    "\n",
    "### Apply SelectKBest Algorithm\n",
    "ordered_rank_features=SelectKBest(score_func=chi2,k='all')\n",
    "ordered_feature=ordered_rank_features.fit(X,Y)"
   ]
  },
  {
   "cell_type": "code",
   "execution_count": 74,
   "metadata": {},
   "outputs": [
    {
     "data": {
      "text/html": [
       "<div>\n",
       "<style scoped>\n",
       "    .dataframe tbody tr th:only-of-type {\n",
       "        vertical-align: middle;\n",
       "    }\n",
       "\n",
       "    .dataframe tbody tr th {\n",
       "        vertical-align: top;\n",
       "    }\n",
       "\n",
       "    .dataframe thead th {\n",
       "        text-align: right;\n",
       "    }\n",
       "</style>\n",
       "<table border=\"1\" class=\"dataframe\">\n",
       "  <thead>\n",
       "    <tr style=\"text-align: right;\">\n",
       "      <th></th>\n",
       "      <th>Features</th>\n",
       "      <th>Score</th>\n",
       "    </tr>\n",
       "  </thead>\n",
       "  <tbody>\n",
       "    <tr>\n",
       "      <th>6</th>\n",
       "      <td>EMPLOYER_NAME</td>\n",
       "      <td>35859.468529</td>\n",
       "    </tr>\n",
       "    <tr>\n",
       "      <th>17</th>\n",
       "      <td>JOB_CLASS_NOT PRESENT</td>\n",
       "      <td>9200.108279</td>\n",
       "    </tr>\n",
       "    <tr>\n",
       "      <th>18</th>\n",
       "      <td>JOB_CLASS_VERY_HIGH</td>\n",
       "      <td>8438.801205</td>\n",
       "    </tr>\n",
       "    <tr>\n",
       "      <th>7</th>\n",
       "      <td>EMPLOYER_CITY</td>\n",
       "      <td>7805.050447</td>\n",
       "    </tr>\n",
       "    <tr>\n",
       "      <th>8</th>\n",
       "      <td>EMPLOYER_STATE</td>\n",
       "      <td>1376.090784</td>\n",
       "    </tr>\n",
       "    <tr>\n",
       "      <th>14</th>\n",
       "      <td>WAGE_CLASS_VERY_LOW</td>\n",
       "      <td>1236.829988</td>\n",
       "    </tr>\n",
       "    <tr>\n",
       "      <th>15</th>\n",
       "      <td>JOB_CLASS_LOW</td>\n",
       "      <td>765.389448</td>\n",
       "    </tr>\n",
       "    <tr>\n",
       "      <th>19</th>\n",
       "      <td>JOB_CLASS_VERY_LOW</td>\n",
       "      <td>247.022362</td>\n",
       "    </tr>\n",
       "    <tr>\n",
       "      <th>16</th>\n",
       "      <td>JOB_CLASS_MEDIUM</td>\n",
       "      <td>86.911800</td>\n",
       "    </tr>\n",
       "    <tr>\n",
       "      <th>9</th>\n",
       "      <td>H-1B_DEPENDENT</td>\n",
       "      <td>80.222511</td>\n",
       "    </tr>\n",
       "  </tbody>\n",
       "</table>\n",
       "</div>"
      ],
      "text/plain": [
       "                 Features         Score\n",
       "6           EMPLOYER_NAME  35859.468529\n",
       "17  JOB_CLASS_NOT PRESENT   9200.108279\n",
       "18    JOB_CLASS_VERY_HIGH   8438.801205\n",
       "7           EMPLOYER_CITY   7805.050447\n",
       "8          EMPLOYER_STATE   1376.090784\n",
       "14    WAGE_CLASS_VERY_LOW   1236.829988\n",
       "15          JOB_CLASS_LOW    765.389448\n",
       "19     JOB_CLASS_VERY_LOW    247.022362\n",
       "16       JOB_CLASS_MEDIUM     86.911800\n",
       "9          H-1B_DEPENDENT     80.222511"
      ]
     },
     "execution_count": 74,
     "metadata": {},
     "output_type": "execute_result"
    }
   ],
   "source": [
    "\n",
    "dfscores=pd.DataFrame(ordered_feature.scores_,columns=[\"Score\"])\n",
    "dfcolumns=pd.DataFrame(X.columns)\n",
    "features_rank=pd.concat([dfcolumns,dfscores],axis=1)\n",
    "features_rank.columns=['Features','Score']\n",
    "features_rank.nlargest(10,'Score')"
   ]
  },
  {
   "cell_type": "code",
   "execution_count": 75,
   "metadata": {},
   "outputs": [],
   "source": [
    "from sklearn.model_selection import train_test_split\n",
    "X_train, X_test, y_train, y_test = train_test_split(X, Y, test_size=0.25, random_state=0)"
   ]
  },
  {
   "cell_type": "code",
   "execution_count": 76,
   "metadata": {},
   "outputs": [
    {
     "name": "stdout",
     "output_type": "stream",
     "text": [
      "(35744, 25)\n",
      "(35744,)\n",
      "(11915, 25)\n",
      "(11915,)\n"
     ]
    }
   ],
   "source": [
    "print(X_train.shape)\n",
    "print(y_train.shape)\n",
    "print(X_test.shape)\n",
    "print(y_test.shape)"
   ]
  },
  {
   "cell_type": "code",
   "execution_count": 77,
   "metadata": {},
   "outputs": [],
   "source": [
    "from sklearn.naive_bayes import GaussianNB\n",
    "from sklearn.ensemble import RandomForestClassifier\n",
    "from sklearn.neighbors import KNeighborsClassifier\n",
    "from sklearn.svm import SVC\n",
    "from sklearn.tree import DecisionTreeClassifier\n",
    "from xgboost import XGBClassifier\n",
    "from sklearn.linear_model import LogisticRegression\n",
    "from sklearn.model_selection import train_test_split\n",
    "from sklearn.metrics import accuracy_score,confusion_matrix,precision_score,recall_score, f1_score\n",
    "from sklearn.metrics import classification_report"
   ]
  },
  {
   "cell_type": "code",
   "execution_count": 78,
   "metadata": {},
   "outputs": [],
   "source": [
    "from datetime import datetime"
   ]
  },
  {
   "cell_type": "code",
   "execution_count": 79,
   "metadata": {},
   "outputs": [],
   "source": [
    "def train_predict_ML(Model_Name,X_res,y_res,X_test,y_test):\n",
    "    st = datetime.now()\n",
    "    Model_Name = Model_Name.upper()\n",
    "    if Model_Name == 'RF':\n",
    "        Model = RandomForestClassifier()\n",
    "        model_n = 'RANDOM_FOREST'\n",
    "    elif Model_Name == 'DT':\n",
    "        Model = DecisionTreeClassifier()\n",
    "        model_n = 'DECISION_TREE'\n",
    "    elif Model_Name == 'LOG':\n",
    "        Model = LogisticRegression()\n",
    "        model_n = 'LOGISTIC_REGRESSION'\n",
    "    elif Model_Name == 'KNN':\n",
    "        Model = KNeighborsClassifier()\n",
    "        model_n = 'K_NEAREST_NEIGHBOURS'\n",
    "    elif Model_Name == 'XGB':\n",
    "        Model = XGBClassifier()\n",
    "        model_n = 'XG_BOOST'\n",
    "    elif Model_Name == 'NAIVE':\n",
    "        Model = GaussianNB()\n",
    "        model_n = 'NAIVE_BAYES'\n",
    "    elif Model_Name == 'SVM':\n",
    "        Model = SVC()\n",
    "        model_n = 'SUPPORT_VECTOR_MACHINE'\n",
    "    else:\n",
    "        print('No Model Present!!')\n",
    "    Model.fit(X_res, y_res)\n",
    "    y_pred = Model.predict(X_test)\n",
    "    accuracy = accuracy_score(y_test, y_pred)\n",
    "    print('Accuracy of Model is {}'.format(accuracy))\n",
    "    print('Printing the confusion matrix below {}'.format(confusion_matrix(y_test, y_pred)))\n",
    "    print('Printing the confusion matrix of Training dataset below {}'.format(confusion_matrix(y_res,Model.predict(X_res))))\n",
    "    print('Displaying the classification report below {}'.format(classification_report(y_test, y_pred)))\n",
    "    \n",
    "    precision = precision_score(y_test, y_pred)\n",
    "    print('Precision: {}'.format(precision))\n",
    "    # recall: tp / (tp + fn)\n",
    "    recall = recall_score(y_test, y_pred)\n",
    "    print('Recall:{}'.format(recall))\n",
    "    # f1: 2 tp / (2 tp + fp + fn)\n",
    "    f1 = f1_score(y_test, y_pred)\n",
    "    print('F1 score:{}'.format(f1))\n",
    "    print('Classification Report')\n",
    "    print(classification_report(y_test, y_pred))\n",
    "    et = datetime.now()\n",
    "    list1 = [model_n, accuracy, precision, recall, f1, (et-st)]\n",
    "    return list1"
   ]
  },
  {
   "cell_type": "code",
   "execution_count": 80,
   "metadata": {},
   "outputs": [
    {
     "name": "stdout",
     "output_type": "stream",
     "text": [
      "Started the process of prediction\n",
      "**************************************************\n",
      "=========================\n",
      "Random Forest Prediction\n",
      "Accuracy of Model is 0.7489718841796056\n",
      "Printing the confusion matrix below [[5234 1304]\n",
      " [1687 3690]]\n",
      "Printing the confusion matrix of Training dataset below [[17519  2222]\n",
      " [ 3341 12662]]\n",
      "Displaying the classification report below               precision    recall  f1-score   support\n",
      "\n",
      "           0       0.76      0.80      0.78      6538\n",
      "           1       0.74      0.69      0.71      5377\n",
      "\n",
      "    accuracy                           0.75     11915\n",
      "   macro avg       0.75      0.74      0.74     11915\n",
      "weighted avg       0.75      0.75      0.75     11915\n",
      "\n",
      "Precision: 0.7388866639967961\n",
      "Recall:0.6862562767342384\n",
      "F1 score:0.7115996528782181\n",
      "Classification Report\n",
      "              precision    recall  f1-score   support\n",
      "\n",
      "           0       0.76      0.80      0.78      6538\n",
      "           1       0.74      0.69      0.71      5377\n",
      "\n",
      "    accuracy                           0.75     11915\n",
      "   macro avg       0.75      0.74      0.74     11915\n",
      "weighted avg       0.75      0.75      0.75     11915\n",
      "\n",
      "=========================\n",
      "=========================\n",
      "Decision Tree Prediction\n",
      "Accuracy of Model is 0.7471254720939992\n",
      "Printing the confusion matrix below [[5363 1175]\n",
      " [1838 3539]]\n",
      "Printing the confusion matrix of Training dataset below [[17991  1750]\n",
      " [ 3813 12190]]\n",
      "Displaying the classification report below               precision    recall  f1-score   support\n",
      "\n",
      "           0       0.74      0.82      0.78      6538\n",
      "           1       0.75      0.66      0.70      5377\n",
      "\n",
      "    accuracy                           0.75     11915\n",
      "   macro avg       0.75      0.74      0.74     11915\n",
      "weighted avg       0.75      0.75      0.74     11915\n",
      "\n",
      "Precision: 0.75074246924056\n",
      "Recall:0.6581737028082574\n",
      "F1 score:0.7014171043504112\n",
      "Classification Report\n",
      "              precision    recall  f1-score   support\n",
      "\n",
      "           0       0.74      0.82      0.78      6538\n",
      "           1       0.75      0.66      0.70      5377\n",
      "\n",
      "    accuracy                           0.75     11915\n",
      "   macro avg       0.75      0.74      0.74     11915\n",
      "weighted avg       0.75      0.75      0.74     11915\n",
      "\n",
      "=========================\n",
      "=========================\n",
      "Logistic Regression Prediction\n"
     ]
    },
    {
     "name": "stderr",
     "output_type": "stream",
     "text": [
      "C:\\Users\\Sai Prashanth T S\\anaconda3\\lib\\site-packages\\sklearn\\linear_model\\_logistic.py:762: ConvergenceWarning: lbfgs failed to converge (status=1):\n",
      "STOP: TOTAL NO. of ITERATIONS REACHED LIMIT.\n",
      "\n",
      "Increase the number of iterations (max_iter) or scale the data as shown in:\n",
      "    https://scikit-learn.org/stable/modules/preprocessing.html\n",
      "Please also refer to the documentation for alternative solver options:\n",
      "    https://scikit-learn.org/stable/modules/linear_model.html#logistic-regression\n",
      "  n_iter_i = _check_optimize_result(\n"
     ]
    },
    {
     "name": "stdout",
     "output_type": "stream",
     "text": [
      "Accuracy of Model is 0.7564414603441041\n",
      "Printing the confusion matrix below [[5517 1021]\n",
      " [1881 3496]]\n",
      "Printing the confusion matrix of Training dataset below [[16631  3110]\n",
      " [ 5583 10420]]\n",
      "Displaying the classification report below               precision    recall  f1-score   support\n",
      "\n",
      "           0       0.75      0.84      0.79      6538\n",
      "           1       0.77      0.65      0.71      5377\n",
      "\n",
      "    accuracy                           0.76     11915\n",
      "   macro avg       0.76      0.75      0.75     11915\n",
      "weighted avg       0.76      0.76      0.75     11915\n",
      "\n",
      "Precision: 0.7739650210316582\n",
      "Recall:0.6501766784452296\n",
      "F1 score:0.7066909237921973\n",
      "Classification Report\n",
      "              precision    recall  f1-score   support\n",
      "\n",
      "           0       0.75      0.84      0.79      6538\n",
      "           1       0.77      0.65      0.71      5377\n",
      "\n",
      "    accuracy                           0.76     11915\n",
      "   macro avg       0.76      0.75      0.75     11915\n",
      "weighted avg       0.76      0.76      0.75     11915\n",
      "\n",
      "=========================\n",
      "=========================\n",
      "KNN Prediction\n",
      "Accuracy of Model is 0.7395719681074276\n",
      "Printing the confusion matrix below [[5248 1290]\n",
      " [1813 3564]]\n",
      "Printing the confusion matrix of Training dataset below [[16896  2845]\n",
      " [ 4332 11671]]\n",
      "Displaying the classification report below               precision    recall  f1-score   support\n",
      "\n",
      "           0       0.74      0.80      0.77      6538\n",
      "           1       0.73      0.66      0.70      5377\n",
      "\n",
      "    accuracy                           0.74     11915\n",
      "   macro avg       0.74      0.73      0.73     11915\n",
      "weighted avg       0.74      0.74      0.74     11915\n",
      "\n",
      "Precision: 0.7342398022249691\n",
      "Recall:0.6628231355774595\n",
      "F1 score:0.6967060893363308\n",
      "Classification Report\n",
      "              precision    recall  f1-score   support\n",
      "\n",
      "           0       0.74      0.80      0.77      6538\n",
      "           1       0.73      0.66      0.70      5377\n",
      "\n",
      "    accuracy                           0.74     11915\n",
      "   macro avg       0.74      0.73      0.73     11915\n",
      "weighted avg       0.74      0.74      0.74     11915\n",
      "\n",
      "=========================\n",
      "=========================\n",
      "Gradient Boosting Prediction\n"
     ]
    },
    {
     "name": "stderr",
     "output_type": "stream",
     "text": [
      "C:\\Users\\Sai Prashanth T S\\anaconda3\\lib\\site-packages\\xgboost\\sklearn.py:892: UserWarning: The use of label encoder in XGBClassifier is deprecated and will be removed in a future release. To remove this warning, do the following: 1) Pass option use_label_encoder=False when constructing XGBClassifier object; and 2) Encode your labels (y) as integers starting with 0, i.e. 0, 1, 2, ..., [num_class - 1].\n",
      "  warnings.warn(label_encoder_deprecation_msg, UserWarning)\n"
     ]
    },
    {
     "name": "stdout",
     "output_type": "stream",
     "text": [
      "[18:21:40] WARNING: C:/Users/Administrator/workspace/xgboost-win64_release_1.3.0/src/learner.cc:1061: Starting in XGBoost 1.3.0, the default evaluation metric used with the objective 'binary:logistic' was changed from 'error' to 'logloss'. Explicitly set eval_metric if you'd like to restore the old behavior.\n",
      "Accuracy of Model is 0.7654217373059169\n",
      "Printing the confusion matrix below [[5634  904]\n",
      " [1891 3486]]\n",
      "Printing the confusion matrix of Training dataset below [[17504  2237]\n",
      " [ 5006 10997]]\n",
      "Displaying the classification report below               precision    recall  f1-score   support\n",
      "\n",
      "           0       0.75      0.86      0.80      6538\n",
      "           1       0.79      0.65      0.71      5377\n",
      "\n",
      "    accuracy                           0.77     11915\n",
      "   macro avg       0.77      0.76      0.76     11915\n",
      "weighted avg       0.77      0.77      0.76     11915\n",
      "\n",
      "Precision: 0.7940774487471526\n",
      "Recall:0.6483169053375488\n",
      "F1 score:0.7138322924132282\n",
      "Classification Report\n",
      "              precision    recall  f1-score   support\n",
      "\n",
      "           0       0.75      0.86      0.80      6538\n",
      "           1       0.79      0.65      0.71      5377\n",
      "\n",
      "    accuracy                           0.77     11915\n",
      "   macro avg       0.77      0.76      0.76     11915\n",
      "weighted avg       0.77      0.77      0.76     11915\n",
      "\n",
      "=========================\n",
      "=========================\n",
      "Naive Bayes Prediction\n",
      "Accuracy of Model is 0.7258917331095258\n",
      "Printing the confusion matrix below [[6461   77]\n",
      " [3189 2188]]\n",
      "Printing the confusion matrix of Training dataset below [[19538   203]\n",
      " [ 9456  6547]]\n",
      "Displaying the classification report below               precision    recall  f1-score   support\n",
      "\n",
      "           0       0.67      0.99      0.80      6538\n",
      "           1       0.97      0.41      0.57      5377\n",
      "\n",
      "    accuracy                           0.73     11915\n",
      "   macro avg       0.82      0.70      0.69     11915\n",
      "weighted avg       0.80      0.73      0.70     11915\n",
      "\n",
      "Precision: 0.9660044150110375\n",
      "Recall:0.4069183559605728\n",
      "F1 score:0.5726249672860507\n",
      "Classification Report\n",
      "              precision    recall  f1-score   support\n",
      "\n",
      "           0       0.67      0.99      0.80      6538\n",
      "           1       0.97      0.41      0.57      5377\n",
      "\n",
      "    accuracy                           0.73     11915\n",
      "   macro avg       0.82      0.70      0.69     11915\n",
      "weighted avg       0.80      0.73      0.70     11915\n",
      "\n",
      "=========================\n",
      "=========================\n",
      "SVM Prediction\n",
      "Accuracy of Model is 0.5569450272765422\n",
      "Printing the confusion matrix below [[6397  141]\n",
      " [5138  239]]\n",
      "Printing the confusion matrix of Training dataset below [[19385   356]\n",
      " [15289   714]]\n",
      "Displaying the classification report below               precision    recall  f1-score   support\n",
      "\n",
      "           0       0.55      0.98      0.71      6538\n",
      "           1       0.63      0.04      0.08      5377\n",
      "\n",
      "    accuracy                           0.56     11915\n",
      "   macro avg       0.59      0.51      0.40     11915\n",
      "weighted avg       0.59      0.56      0.43     11915\n",
      "\n",
      "Precision: 0.6289473684210526\n",
      "Recall:0.044448577273572626\n",
      "F1 score:0.08302935556713567\n",
      "Classification Report\n",
      "              precision    recall  f1-score   support\n",
      "\n",
      "           0       0.55      0.98      0.71      6538\n",
      "           1       0.63      0.04      0.08      5377\n",
      "\n",
      "    accuracy                           0.56     11915\n",
      "   macro avg       0.59      0.51      0.40     11915\n",
      "weighted avg       0.59      0.56      0.43     11915\n",
      "\n",
      "=========================\n",
      "**************************************************\n"
     ]
    }
   ],
   "source": [
    "print(\"Started the process of prediction\")\n",
    "print('*'*50)\n",
    "\n",
    "print('='*25)\n",
    "print('Random Forest Prediction')\n",
    "rf_l = train_predict_ML('RF',X_train,y_train,X_test,y_test)\n",
    "print('='*25)\n",
    "\n",
    "print('='*25)\n",
    "print('Decision Tree Prediction')\n",
    "dt_l = train_predict_ML('DT',X_train,y_train,X_test,y_test)\n",
    "print('='*25)\n",
    "\n",
    "print('='*25)\n",
    "print('Logistic Regression Prediction')\n",
    "log_l = train_predict_ML('LOG',X_train,y_train,X_test,y_test)\n",
    "print('='*25)\n",
    "\n",
    "print('='*25)\n",
    "print('KNN Prediction')\n",
    "knn_l = train_predict_ML('KNN',X_train,y_train,X_test,y_test)\n",
    "print('='*25)\n",
    "\n",
    "print('='*25)\n",
    "print('Gradient Boosting Prediction')\n",
    "gb_l = train_predict_ML('XGB',X_train,y_train,X_test,y_test)\n",
    "print('='*25)\n",
    "\n",
    "print('='*25)\n",
    "print('Naive Bayes Prediction')\n",
    "naive_l = train_predict_ML('NAIVE',X_train,y_train,X_test,y_test)\n",
    "print('='*25)\n",
    "\n",
    "print('='*25)\n",
    "print('SVM Prediction')\n",
    "svm_l = train_predict_ML('SVM',X_train,y_train,X_test,y_test)\n",
    "print('='*25)\n",
    "\n",
    "print('*'*50)"
   ]
  },
  {
   "cell_type": "code",
   "execution_count": 81,
   "metadata": {},
   "outputs": [],
   "source": [
    "output_list = [rf_l, dt_l ,log_l, knn_l, gb_l, naive_l, svm_l]"
   ]
  },
  {
   "cell_type": "code",
   "execution_count": 82,
   "metadata": {},
   "outputs": [],
   "source": [
    "output_matrix = pd.DataFrame(output_list, columns = ['MODEL_NAME','ACCURACY', 'PRECISION', 'RECALL', 'F1', 'TIME'])"
   ]
  },
  {
   "cell_type": "code",
   "execution_count": 83,
   "metadata": {},
   "outputs": [
    {
     "data": {
      "text/html": [
       "<div>\n",
       "<style scoped>\n",
       "    .dataframe tbody tr th:only-of-type {\n",
       "        vertical-align: middle;\n",
       "    }\n",
       "\n",
       "    .dataframe tbody tr th {\n",
       "        vertical-align: top;\n",
       "    }\n",
       "\n",
       "    .dataframe thead th {\n",
       "        text-align: right;\n",
       "    }\n",
       "</style>\n",
       "<table border=\"1\" class=\"dataframe\">\n",
       "  <thead>\n",
       "    <tr style=\"text-align: right;\">\n",
       "      <th></th>\n",
       "      <th>MODEL_NAME</th>\n",
       "      <th>ACCURACY</th>\n",
       "      <th>PRECISION</th>\n",
       "      <th>RECALL</th>\n",
       "      <th>F1</th>\n",
       "      <th>TIME</th>\n",
       "    </tr>\n",
       "  </thead>\n",
       "  <tbody>\n",
       "    <tr>\n",
       "      <th>0</th>\n",
       "      <td>RANDOM_FOREST</td>\n",
       "      <td>0.748972</td>\n",
       "      <td>0.738887</td>\n",
       "      <td>0.686256</td>\n",
       "      <td>0.711600</td>\n",
       "      <td>00:00:03.653178</td>\n",
       "    </tr>\n",
       "    <tr>\n",
       "      <th>1</th>\n",
       "      <td>DECISION_TREE</td>\n",
       "      <td>0.747125</td>\n",
       "      <td>0.750742</td>\n",
       "      <td>0.658174</td>\n",
       "      <td>0.701417</td>\n",
       "      <td>00:00:00.206218</td>\n",
       "    </tr>\n",
       "    <tr>\n",
       "      <th>2</th>\n",
       "      <td>LOGISTIC_REGRESSION</td>\n",
       "      <td>0.756441</td>\n",
       "      <td>0.773965</td>\n",
       "      <td>0.650177</td>\n",
       "      <td>0.706691</td>\n",
       "      <td>00:00:00.643283</td>\n",
       "    </tr>\n",
       "    <tr>\n",
       "      <th>3</th>\n",
       "      <td>K_NEAREST_NEIGHBOURS</td>\n",
       "      <td>0.739572</td>\n",
       "      <td>0.734240</td>\n",
       "      <td>0.662823</td>\n",
       "      <td>0.696706</td>\n",
       "      <td>00:00:10.859007</td>\n",
       "    </tr>\n",
       "    <tr>\n",
       "      <th>4</th>\n",
       "      <td>XG_BOOST</td>\n",
       "      <td>0.765422</td>\n",
       "      <td>0.794077</td>\n",
       "      <td>0.648317</td>\n",
       "      <td>0.713832</td>\n",
       "      <td>00:00:02.372441</td>\n",
       "    </tr>\n",
       "    <tr>\n",
       "      <th>5</th>\n",
       "      <td>NAIVE_BAYES</td>\n",
       "      <td>0.725892</td>\n",
       "      <td>0.966004</td>\n",
       "      <td>0.406918</td>\n",
       "      <td>0.572625</td>\n",
       "      <td>00:00:00.185323</td>\n",
       "    </tr>\n",
       "    <tr>\n",
       "      <th>6</th>\n",
       "      <td>SUPPORT_VECTOR_MACHINE</td>\n",
       "      <td>0.556945</td>\n",
       "      <td>0.628947</td>\n",
       "      <td>0.044449</td>\n",
       "      <td>0.083029</td>\n",
       "      <td>00:02:27.825528</td>\n",
       "    </tr>\n",
       "  </tbody>\n",
       "</table>\n",
       "</div>"
      ],
      "text/plain": [
       "               MODEL_NAME  ACCURACY  PRECISION    RECALL        F1  \\\n",
       "0           RANDOM_FOREST  0.748972   0.738887  0.686256  0.711600   \n",
       "1           DECISION_TREE  0.747125   0.750742  0.658174  0.701417   \n",
       "2     LOGISTIC_REGRESSION  0.756441   0.773965  0.650177  0.706691   \n",
       "3    K_NEAREST_NEIGHBOURS  0.739572   0.734240  0.662823  0.696706   \n",
       "4                XG_BOOST  0.765422   0.794077  0.648317  0.713832   \n",
       "5             NAIVE_BAYES  0.725892   0.966004  0.406918  0.572625   \n",
       "6  SUPPORT_VECTOR_MACHINE  0.556945   0.628947  0.044449  0.083029   \n",
       "\n",
       "             TIME  \n",
       "0 00:00:03.653178  \n",
       "1 00:00:00.206218  \n",
       "2 00:00:00.643283  \n",
       "3 00:00:10.859007  \n",
       "4 00:00:02.372441  \n",
       "5 00:00:00.185323  \n",
       "6 00:02:27.825528  "
      ]
     },
     "execution_count": 83,
     "metadata": {},
     "output_type": "execute_result"
    }
   ],
   "source": [
    "output_matrix.head(10)"
   ]
  },
  {
   "cell_type": "code",
   "execution_count": 84,
   "metadata": {},
   "outputs": [
    {
     "name": "stdout",
     "output_type": "stream",
     "text": [
      "0.7488040285354595\n",
      "[[5224 1314]\n",
      " [1679 3698]]\n"
     ]
    },
    {
     "data": {
      "text/plain": [
       "array([[17479,  2262],\n",
       "       [ 3301, 12702]], dtype=int64)"
      ]
     },
     "execution_count": 84,
     "metadata": {},
     "output_type": "execute_result"
    }
   ],
   "source": [
    "rf = RandomForestClassifier()\n",
    "rf.fit(X_train, y_train)\n",
    "y_pred = rf.predict(X_test)\n",
    "print(accuracy_score(y_test, y_pred))\n",
    "print(confusion_matrix(y_test, y_pred))\n",
    "confusion_matrix(y_train,rf.predict(X_train))"
   ]
  },
  {
   "cell_type": "code",
   "execution_count": 85,
   "metadata": {},
   "outputs": [
    {
     "name": "stdout",
     "output_type": "stream",
     "text": [
      "Fitting 5 folds for each of 24 candidates, totalling 120 fits\n"
     ]
    },
    {
     "name": "stderr",
     "output_type": "stream",
     "text": [
      "[Parallel(n_jobs=-1)]: Using backend LokyBackend with 4 concurrent workers.\n",
      "[Parallel(n_jobs=-1)]: Done  42 tasks      | elapsed:   43.5s\n",
      "[Parallel(n_jobs=-1)]: Done 120 out of 120 | elapsed:  1.8min finished\n"
     ]
    }
   ],
   "source": [
    "from sklearn.model_selection import GridSearchCV\n",
    "rf = RandomForestClassifier()\n",
    "# Use the random grid to search for best hyperparameters\n",
    "# First create the base model to tune\n",
    "n_estimators = [100,  10]\n",
    "max_depth = [None]\n",
    "min_samples_split = [2,5]\n",
    "min_samples_leaf = [1, 2] \n",
    "max_leaf_nodes = [None]\n",
    "max_features = ['auto', 'sqrt', 'log2']\n",
    "\n",
    "hyperF = dict(n_estimators = n_estimators, max_depth = max_depth,  \n",
    "              min_samples_split = min_samples_split, \n",
    "             min_samples_leaf = min_samples_leaf,\n",
    "             max_leaf_nodes = max_leaf_nodes,\n",
    "             max_features = max_features)\n",
    "\n",
    "gridF = GridSearchCV(rf, hyperF, cv = 5, verbose = 1, \n",
    "                      n_jobs = -1)\n",
    "bestF = gridF.fit(X, Y)"
   ]
  },
  {
   "cell_type": "code",
   "execution_count": 87,
   "metadata": {},
   "outputs": [
    {
     "data": {
      "text/plain": [
       "RandomForestClassifier(max_features='log2', min_samples_leaf=2,\n",
       "                       min_samples_split=5, n_estimators=10)"
      ]
     },
     "execution_count": 87,
     "metadata": {},
     "output_type": "execute_result"
    }
   ],
   "source": [
    "gridF.best_params_\n",
    "gridF.best_estimator_"
   ]
  },
  {
   "cell_type": "code",
   "execution_count": 88,
   "metadata": {},
   "outputs": [
    {
     "name": "stdout",
     "output_type": "stream",
     "text": [
      "Accuracy of Model is 0.7578682333193454\n",
      "Printing the confusion matrix below [[5398 1140]\n",
      " [1745 3632]]\n",
      "Printing the confusion matrix of Training dataset below [[17294  2447]\n",
      " [ 4149 11854]]\n",
      "Displaying the classification report below               precision    recall  f1-score   support\n",
      "\n",
      "           0       0.76      0.83      0.79      6538\n",
      "           1       0.76      0.68      0.72      5377\n",
      "\n",
      "    accuracy                           0.76     11915\n",
      "   macro avg       0.76      0.75      0.75     11915\n",
      "weighted avg       0.76      0.76      0.76     11915\n",
      "\n",
      "Precision: 0.7611064543168483\n",
      "Recall:0.6754695927096894\n",
      "F1 score:0.7157355404473348\n",
      "Classification Report\n",
      "              precision    recall  f1-score   support\n",
      "\n",
      "           0       0.76      0.83      0.79      6538\n",
      "           1       0.76      0.68      0.72      5377\n",
      "\n",
      "    accuracy                           0.76     11915\n",
      "   macro avg       0.76      0.75      0.75     11915\n",
      "weighted avg       0.76      0.76      0.76     11915\n",
      "\n"
     ]
    }
   ],
   "source": [
    "Model = RandomForestClassifier(max_features='log2', min_samples_leaf=2,\n",
    "                       min_samples_split=5, n_estimators=10)\n",
    "Model.fit(X_train, y_train)\n",
    "y_pred = Model.predict(X_test)\n",
    "accuracy = accuracy_score(y_test, y_pred)\n",
    "print('Accuracy of Model is {}'.format(accuracy))\n",
    "print('Printing the confusion matrix below {}'.format(confusion_matrix(y_test, y_pred)))\n",
    "print('Printing the confusion matrix of Training dataset below {}'.format(confusion_matrix(y_train,Model.predict(X_train))))\n",
    "print('Displaying the classification report below {}'.format(classification_report(y_test, y_pred)))\n",
    "\n",
    "precision = precision_score(y_test, y_pred)\n",
    "print('Precision: {}'.format(precision))\n",
    "# recall: tp / (tp + fn)\n",
    "recall = recall_score(y_test, y_pred)\n",
    "print('Recall:{}'.format(recall))\n",
    "# f1: 2 tp / (2 tp + fp + fn)\n",
    "f1 = f1_score(y_test, y_pred)\n",
    "print('F1 score:{}'.format(f1))\n",
    "print('Classification Report')\n",
    "print(classification_report(y_test, y_pred))"
   ]
  },
  {
   "cell_type": "code",
   "execution_count": 89,
   "metadata": {},
   "outputs": [
    {
     "data": {
      "image/png": "[encoded data removed]",
      "text/plain": [
       "<Figure size 432x288 with 1 Axes>"
      ]
     },
     "metadata": {
      "needs_background": "light"
     },
     "output_type": "display_data"
    }
   ],
   "source": [
    "import sklearn.metrics as metrics\n",
    "# calculate the fpr and tpr for all thresholds of the classification\n",
    "probs = Model.predict_proba(X_test)\n",
    "preds = probs[:,1]\n",
    "fpr, tpr, threshold = metrics.roc_curve(y_test, preds)\n",
    "roc_auc = metrics.auc(fpr, tpr)\n",
    "\n",
    "# method I: plt\n",
    "import matplotlib.pyplot as plt\n",
    "plt.title('Receiver Operating Characteristic')\n",
    "plt.plot(fpr, tpr, 'b', label = 'AUC = %0.2f' % roc_auc)\n",
    "plt.legend(loc = 'lower right')\n",
    "plt.plot([0, 1], [0, 1],'r--')\n",
    "plt.xlim([0, 1])\n",
    "plt.ylim([0, 1])\n",
    "plt.ylabel('True Positive Rate')\n",
    "plt.xlabel('False Positive Rate')\n",
    "plt.show()"
   ]
  },
  {
   "cell_type": "code",
   "execution_count": null,
   "metadata": {},
   "outputs": [],
   "source": [
    "import pickle\n",
    "\n",
    "# Saving model to disk\n",
    "pickle.dump(Model, open('H1B_Model.pkl','wb'))\n",
    "\n"
   ]
  },
  {
   "cell_type": "code",
   "execution_count": 90,
   "metadata": {},
   "outputs": [
    {
     "name": "stdout",
     "output_type": "stream",
     "text": [
      "Fitting 5 folds for each of 9 candidates, totalling 45 fits\n"
     ]
    },
    {
     "name": "stderr",
     "output_type": "stream",
     "text": [
      "[Parallel(n_jobs=-1)]: Using backend LokyBackend with 4 concurrent workers.\n",
      "[Parallel(n_jobs=-1)]: Done  45 out of  45 | elapsed:  1.2min finished\n",
      "C:\\Users\\Sai Prashanth T S\\anaconda3\\lib\\site-packages\\xgboost\\sklearn.py:892: UserWarning: The use of label encoder in XGBClassifier is deprecated and will be removed in a future release. To remove this warning, do the following: 1) Pass option use_label_encoder=False when constructing XGBClassifier object; and 2) Encode your labels (y) as integers starting with 0, i.e. 0, 1, 2, ..., [num_class - 1].\n",
      "  warnings.warn(label_encoder_deprecation_msg, UserWarning)\n"
     ]
    },
    {
     "name": "stdout",
     "output_type": "stream",
     "text": [
      "[18:28:40] WARNING: C:/Users/Administrator/workspace/xgboost-win64_release_1.3.0/src/learner.cc:1061: Starting in XGBoost 1.3.0, the default evaluation metric used with the objective 'binary:logistic' was changed from 'error' to 'logloss'. Explicitly set eval_metric if you'd like to restore the old behavior.\n"
     ]
    },
    {
     "data": {
      "text/plain": [
       "{'max_depth': 2, 'n_estimators': 50}"
      ]
     },
     "execution_count": 90,
     "metadata": {},
     "output_type": "execute_result"
    }
   ],
   "source": [
    "Model = XGBClassifier()\n",
    "clf = GridSearchCV(Model,{'max_depth': [2,4,6],'n_estimators': [50,100,200]}, cv = 5, verbose = 1, n_jobs = -1,scoring='neg_log_loss')\n",
    "\n",
    "clf.fit(X, Y)\n",
    "clf.best_score_\n",
    "clf.best_params_"
   ]
  },
  {
   "cell_type": "code",
   "execution_count": 92,
   "metadata": {},
   "outputs": [
    {
     "data": {
      "text/plain": [
       "XGBClassifier(base_score=0.5, booster='gbtree', colsample_bylevel=1,\n",
       "              colsample_bynode=1, colsample_bytree=1, gamma=0, gpu_id=-1,\n",
       "              importance_type='gain', interaction_constraints='',\n",
       "              learning_rate=0.300000012, max_delta_step=0, max_depth=2,\n",
       "              min_child_weight=1, missing=nan, monotone_constraints='()',\n",
       "              n_estimators=50, n_jobs=4, num_parallel_tree=1, random_state=0,\n",
       "              reg_alpha=0, reg_lambda=1, scale_pos_weight=1, subsample=1,\n",
       "              tree_method='exact', validate_parameters=1, verbosity=None)"
      ]
     },
     "execution_count": 92,
     "metadata": {},
     "output_type": "execute_result"
    }
   ],
   "source": [
    "clf.best_estimator_"
   ]
  },
  {
   "cell_type": "code",
   "execution_count": 93,
   "metadata": {},
   "outputs": [
    {
     "name": "stdout",
     "output_type": "stream",
     "text": [
      "[18:30:18] WARNING: C:/Users/Administrator/workspace/xgboost-win64_release_1.3.0/src/learner.cc:1061: Starting in XGBoost 1.3.0, the default evaluation metric used with the objective 'binary:logistic' was changed from 'error' to 'logloss'. Explicitly set eval_metric if you'd like to restore the old behavior.\n",
      "Accuracy of Model is 0.7688627780109106\n",
      "Printing the confusion matrix below [[5759  779]\n",
      " [1975 3402]]\n",
      "Printing the confusion matrix of Training dataset below [[17275  2466]\n",
      " [ 5957 10046]]\n",
      "Displaying the classification report below               precision    recall  f1-score   support\n",
      "\n",
      "           0       0.74      0.88      0.81      6538\n",
      "           1       0.81      0.63      0.71      5377\n",
      "\n",
      "    accuracy                           0.77     11915\n",
      "   macro avg       0.78      0.76      0.76     11915\n",
      "weighted avg       0.78      0.77      0.76     11915\n",
      "\n",
      "Precision: 0.8136809375747429\n",
      "Recall:0.6326948112330296\n",
      "F1 score:0.711864406779661\n",
      "Classification Report\n",
      "              precision    recall  f1-score   support\n",
      "\n",
      "           0       0.74      0.88      0.81      6538\n",
      "           1       0.81      0.63      0.71      5377\n",
      "\n",
      "    accuracy                           0.77     11915\n",
      "   macro avg       0.78      0.76      0.76     11915\n",
      "weighted avg       0.78      0.77      0.76     11915\n",
      "\n"
     ]
    }
   ],
   "source": [
    "Model = XGBClassifier(base_score=0.5, booster='gbtree', colsample_bylevel=1,\n",
    "              colsample_bynode=1, colsample_bytree=1, gamma=0, gpu_id=-1,\n",
    "              importance_type='gain', interaction_constraints='',\n",
    "              learning_rate=0.300000012, max_delta_step=0, max_depth=2,\n",
    "              min_child_weight=1, missing=np.nan, monotone_constraints='()',\n",
    "              n_estimators=50, n_jobs=4, num_parallel_tree=1, random_state=0,\n",
    "              reg_alpha=0, reg_lambda=1, scale_pos_weight=1, subsample=1,\n",
    "              tree_method='exact', validate_parameters=1, verbosity=None)\n",
    "Model.fit(X_train, y_train)\n",
    "y_pred = Model.predict(X_test)\n",
    "accuracy = accuracy_score(y_test, y_pred)\n",
    "print('Accuracy of Model is {}'.format(accuracy))\n",
    "print('Printing the confusion matrix below {}'.format(confusion_matrix(y_test, y_pred)))\n",
    "print('Printing the confusion matrix of Training dataset below {}'.format(confusion_matrix(y_train,Model.predict(X_train))))\n",
    "print('Displaying the classification report below {}'.format(classification_report(y_test, y_pred)))\n",
    "\n",
    "precision = precision_score(y_test, y_pred)\n",
    "print('Precision: {}'.format(precision))\n",
    "# recall: tp / (tp + fn)\n",
    "recall = recall_score(y_test, y_pred)\n",
    "print('Recall:{}'.format(recall))\n",
    "# f1: 2 tp / (2 tp + fp + fn)\n",
    "f1 = f1_score(y_test, y_pred)\n",
    "print('F1 score:{}'.format(f1))\n",
    "print('Classification Report')\n",
    "print(classification_report(y_test, y_pred))"
   ]
  },
  {
   "cell_type": "code",
   "execution_count": null,
   "metadata": {},
   "outputs": [],
   "source": []
  },
  {
   "cell_type": "code",
   "execution_count": 94,
   "metadata": {},
   "outputs": [
    {
     "data": {
      "image/png": "[encoded data removed]",
      "text/plain": [
       "<Figure size 432x288 with 1 Axes>"
      ]
     },
     "metadata": {
      "needs_background": "light"
     },
     "output_type": "display_data"
    }
   ],
   "source": [
    "import sklearn.metrics as metrics\n",
    "# calculate the fpr and tpr for all thresholds of the classification\n",
    "probs = Model.predict_proba(X_test)\n",
    "preds = probs[:,1]\n",
    "fpr, tpr, threshold = metrics.roc_curve(y_test, preds)\n",
    "roc_auc = metrics.auc(fpr, tpr)\n",
    "\n",
    "# method I: plt\n",
    "import matplotlib.pyplot as plt\n",
    "plt.title('Receiver Operating Characteristic')\n",
    "plt.plot(fpr, tpr, 'b', label = 'AUC = %0.2f' % roc_auc)\n",
    "plt.legend(loc = 'lower right')\n",
    "plt.plot([0, 1], [0, 1],'r--')\n",
    "plt.xlim([0, 1])\n",
    "plt.ylim([0, 1])\n",
    "plt.ylabel('True Positive Rate')\n",
    "plt.xlabel('False Positive Rate')\n",
    "plt.show()"
   ]
  },
  {
   "cell_type": "code",
   "execution_count": null,
   "metadata": {},
   "outputs": [],
   "source": []
  },
  {
   "cell_type": "code",
   "execution_count": null,
   "metadata": {},
   "outputs": [],
   "source": [
    "import pickle\n",
    "import streamlit as st\n",
    "\n",
    "# loading the trained model\n",
    "pickle_in = open('model.pkl', 'rb')\n",
    "classifier = pickle.load(pickle_in)\n",
    "\n",
    "# defining the function which will make the prediction using the data which the user inputs\n",
    "def prediction(job_title, soc_title, full_time_position,\n",
    "               continued_employment, change_previous_employment,\n",
    "               new_concurrent_employment, change_employer, amended_petition,\n",
    "               employer_name, employer_city, employer_state, prevailing_wage,\n",
    "               h1b_dependent, willful_violator, support_h1b):\n",
    "\n",
    "    Y_N_dict = {'Y': 1, 'N': 0}\n",
    "\n",
    "    def top_10_fn(x):\n",
    "        if x.upper() == 'OTHERS':\n",
    "            return 0\n",
    "        else:\n",
    "            return 100\n",
    "\n",
    "    def convert_prevailing_wage(wage):\n",
    "        if float(wage) <= 37544:\n",
    "            updated_wage = 37544\n",
    "        elif float(wage) >= 137821:\n",
    "            updated_wage = 137821\n",
    "        else:\n",
    "            updated_wage = wage\n",
    "        return (updated_wage - 37544) / (137821 - 37544)\n",
    "\n",
    "    employer_name = top_10_fn(employer_name)\n",
    "    employer_city = top_10_fn(employer_city)\n",
    "    employer_state = top_10_fn(employer_state)\n",
    "\n",
    "    # Pre-processing user input\n",
    "\n",
    "    continued_employment = int(continued_employment)\n",
    "    change_previous_employment = int(change_previous_employment)\n",
    "    new_concurrent_employment = int(new_concurrent_employment)\n",
    "    change_employer = int(change_employer)\n",
    "    amended_petition = int(amended_petition)\n",
    "\n",
    "    h1b_dependent = Y_N_dict[h1b_dependent.strip().upper()]\n",
    "    willful_violator = Y_N_dict[willful_violator.strip().upper()]\n",
    "    support_h1b = Y_N_dict[support_h1b.strip().upper()]\n",
    "\n",
    "    prevailing_wage = convert_prevailing_wage(prevailing_wage)\n",
    "\n",
    "    # Making predictions\n",
    "    prediction_output = classifier.predict(\n",
    "        [[job_title, soc_title, full_time_position,\n",
    "          continued_employment, change_previous_employment,\n",
    "          new_concurrent_employment, change_employer, amended_petition,\n",
    "          employer_name, employer_city, employer_state, prevailing_wage,\n",
    "          h1b_dependent, willful_violator, support_h1b]])\n",
    "\n",
    "    if prediction_output == 0:\n",
    "        predicted_output = 'Approved'\n",
    "    else:\n",
    "        predicted_output = 'Rejected'\n",
    "    return predicted_output\n",
    "\n",
    "\n",
    "# this is the main function in which we define our webpage\n",
    "def main():\n",
    "    # front end elements of the web page\n",
    "    html_temp = \"\"\" \n",
    "    <div style =\"background-color:yellow;padding:13px\"> \n",
    "    <h1 style =\"color:black;text-align:center;\">Streamlit H1B Prediction ML App</h1> \n",
    "    </div> \n",
    "    \"\"\"\n",
    "\n",
    "    # display the front end aspect\n",
    "    st.markdown(html_temp, unsafe_allow_html=True)\n",
    "\n",
    "    # following lines create boxes in which user can enter data required to make prediction\n",
    "    # job_title = st.selectbox('JOB_TITLE', (\"Male\", \"Female\"))\n",
    "    job_title = st.number_input(\"JOB_TITLE\")\n",
    "    # soc_title = st.selectbox('SOC_TITLE', (\"Unmarried\", \"Married\"))\n",
    "    soc_title = st.number_input('SOC_TITLE')\n",
    "    full_time_position = st.selectbox('FULL_TIME_POSITION', (\"Y\", \"N\"))\n",
    "    continued_employment = st.selectbox('CONTINUED_EMPLOYMENT', (\"0\", \"1\"))\n",
    "    change_previous_employment = st.selectbox('CHANGE_PREVIOUS_EMPLOYMENT', (\"0\", \"1\"))\n",
    "    new_concurrent_employment = st.selectbox('NEW_CONCURRENT_EMPLOYMENT', (\"0\", \"1\"))\n",
    "    change_employer = st.selectbox('CHANGE_EMPLOYER', (\"0\", \"1\"))\n",
    "    amended_petition = st.selectbox('AMENDED_PETITION', (\"0\", \"1\"))\n",
    "    employer_name = st.selectbox('EMPLOYER_NAME', ('COGNIZANT TECHNOLOGY SOLUTIONS US CORP',\n",
    "                                                   'INFOSYS LIMITED',\n",
    "                                                   'TATA CONSULTANCY SERVICES LIMITED', 'GOOGLE LLC',\n",
    "                                                   'ERNST & YOUNG U.S. LLP', 'CAPGEMINI AMERICA INC',\n",
    "                                                   'DELOITTE CONSULTING LLP', 'AMAZON.COM SERVICES, INC.',\n",
    "                                                   'MICROSOFT CORPORATION', 'ACCENTURE LLP', 'Others'))\n",
    "    employer_city = st.selectbox('EMPLOYER_CITY', ('NEW YORK', 'COLLEGE STATION', 'CHICAGO', 'RICHARDSON',\n",
    "                                                   'SAN FRANCISCO',\n",
    "                                                   'MOUNTAIN VIEW', 'ROCKVILLE', 'EDISON', 'SEATTLE',\n",
    "                                                   'PHILADELPHIA', 'Others'))\n",
    "    employer_state = st.selectbox('EMPLOYER_STATE', ('CA', 'TX', 'NJ', 'NY', 'IL', 'MA', 'PA', 'MI', 'WA', 'MD',\n",
    "                                                     'Others'))\n",
    "    prevailing_wage = st.number_input(\"PREVAILING_WAGE\")\n",
    "    h1b_dependent = st.selectbox('H1B_DEPENDENT', (\"Y\", \"N\"))\n",
    "    willful_violator = st.selectbox('WILLFUL_VIOLATOR', (\"Y\", \"N\"))\n",
    "    support_h1b = st.selectbox('SUPPORT_H1B', (\"Y\", \"N\"))\n",
    "    result = \"\"\n",
    "\n",
    "    if st.button(\"Predict\"):\n",
    "        result = prediction(job_title, soc_title, full_time_position,\n",
    "                            continued_employment, change_previous_employment,\n",
    "                            new_concurrent_employment, change_employer, amended_petition,\n",
    "                            employer_name, employer_city, employer_state, prevailing_wage,\n",
    "                            h1b_dependent, willful_violator, support_h1b)\n",
    "        st.success('Your H1B Prediction result is {}'.format(result))\n",
    "\n",
    "    if st.button(\"About\"):\n",
    "        st.text('This is used to predict the H1B Prediction')\n",
    "\n",
    "\n"
   ]
  },
  {
   "cell_type": "code",
   "execution_count": null,
   "metadata": {},
   "outputs": [],
   "source": [
    "X_test"
   ]
  },
  {
   "cell_type": "code",
   "execution_count": null,
   "metadata": {},
   "outputs": [],
   "source": [
    "import pickle\n",
    "pickle_in = open('H1B_Model.pkl', 'rb')\n",
    "classifier = pickle.load(pickle_in)\n",
    "classifier.predict(np.array([[1, 0, 0, 0, 0, 0, 170, 200, 200, 1, 1, 1, 0, 0, 1, 0, 1, 0, 0, 0, 0, 1, 0, 0, 0]]))\n"
   ]
  },
  {
   "cell_type": "code",
   "execution_count": null,
   "metadata": {},
   "outputs": [],
   "source": [
    "np.array(X_test).reshape((1,-1))"
   ]
  },
  {
   "cell_type": "code",
   "execution_count": null,
   "metadata": {},
   "outputs": [],
   "source": []
  }
 ],
 "metadata": {
  "kernelspec": {
   "display_name": "Python 3",
   "language": "python",
   "name": "python3"
  },
  "language_info": {
   "codemirror_mode": {
    "name": "ipython",
    "version": 3
   },
   "file_extension": ".py",
   "mimetype": "text/x-python",
   "name": "python",
   "nbconvert_exporter": "python",
   "pygments_lexer": "ipython3",
   "version": "3.8.3"
  }
 },
 "nbformat": 4,
 "nbformat_minor": 4
}
